{
  "cells": [
    {
      "cell_type": "markdown",
      "metadata": {
        "id": "view-in-github",
        "colab_type": "text"
      },
      "source": [
        "<a href=\"https://colab.research.google.com/github/SebastianOrmaechea/Python-projects/blob/main/AnyoneAI_Project_3_v3.ipynb\" target=\"_parent\"><img src=\"https://colab.research.google.com/assets/colab-badge.svg\" alt=\"Open In Colab\"/></a>"
      ]
    },
    {
      "cell_type": "markdown",
      "id": "9d3c07ee-c3bf-4530-812a-36405502b38d",
      "metadata": {
        "id": "9d3c07ee-c3bf-4530-812a-36405502b38d"
      },
      "source": [
        "# Anyone AI - Project III\n",
        "\n",
        "# Home Credit Default Risk\n"
      ]
    },
    {
      "cell_type": "markdown",
      "id": "b5a8ce13-f23a-41bf-a8c7-d432ebcbe0c1",
      "metadata": {
        "id": "b5a8ce13-f23a-41bf-a8c7-d432ebcbe0c1"
      },
      "source": [
        "You've been learning a lot about Machine Learning Algorithms, now we you're gonna be asked to put it all togheter. "
      ]
    },
    {
      "cell_type": "markdown",
      "id": "58ca3658-e8a1-41ba-a823-1a88ca9ef34b",
      "metadata": {
        "id": "58ca3658-e8a1-41ba-a823-1a88ca9ef34b"
      },
      "source": [
        "You will create a complete pipeline to preprocess the data, train your model and then predict values for the [Home Credit Default Risk](https://www.kaggle.com/competitions/home-credit-default-risk/) Kaggle competition."
      ]
    },
    {
      "cell_type": "markdown",
      "id": "e396c950-04b0-453e-b930-a22a96cee2d1",
      "metadata": {
        "id": "e396c950-04b0-453e-b930-a22a96cee2d1"
      },
      "source": [
        "## 1. Introduction"
      ]
    },
    {
      "cell_type": "markdown",
      "id": "6a305c07-e042-4c59-8aea-03475afc09dd",
      "metadata": {
        "id": "6a305c07-e042-4c59-8aea-03475afc09dd"
      },
      "source": [
        "This is a binary Classification task: we want to predict whether the person applying for a home credit will be able to repay its debt or not.\n",
        "\n",
        "The dataset is composed of multiple files with different information about loands taken. In this project we're going to exclusively work with the main files: application_train.csv and application_test.csv.\n",
        "\n",
        "We will use [Area Under the ROC Curve](https://developers.google.com/machine-learning/crash-course/classification/roc-and-auc?hl=es_419) as the evaluation metric, so our models will have to return the probabilities that a loan is not paid for each row."
      ]
    },
    {
      "cell_type": "markdown",
      "id": "3ab085b5-379c-4e02-9f96-08edf5dbf887",
      "metadata": {
        "id": "3ab085b5-379c-4e02-9f96-08edf5dbf887"
      },
      "source": [
        "### Getting the data\n",
        "\n",
        "To access the data for this project, you only need to execute the code below. This will download three files:\n",
        "\n",
        "- `application_train.csv`: Training dataset you must use to train and find the best hyperparameters on your model.\n",
        "- `application_test.csv`: Test dataset, use it only when you are done choosing the model and the parameters.\n",
        "- `HomeCredit_columns_description.csv`: This file contains descriptions for the columns in train and test datasets.\n"
      ]
    },
    {
      "cell_type": "markdown",
      "source": [
        "**Don't change anything in this cell, just make it run correctly**"
      ],
      "metadata": {
        "id": "hLbJP4buUstA"
      },
      "id": "hLbJP4buUstA"
    },
    {
      "cell_type": "code",
      "source": [
        "!pip install ipython-autotime\n",
        "import pandas as pd\n",
        "import numpy as np\n",
        "import matplotlib.pyplot as plt\n",
        "import seaborn as sns\n",
        "from sklearn.preprocessing import OneHotEncoder\n",
        "from sklearn.impute import SimpleImputer\n",
        "from sklearn.compose import make_column_transformer\n",
        "%load_ext autotime\n",
        "from sklearn.linear_model import LogisticRegression\n",
        "from sklearn.metrics import roc_auc_score\n",
        "from sklearn.ensemble import RandomForestClassifier\n",
        "from sklearn.model_selection import RandomizedSearchCV\n",
        "import lightgbm as lgb\n",
        "from sklearn import preprocessing"
      ],
      "metadata": {
        "id": "2sjfHbgA5d8Y",
        "colab": {
          "base_uri": "https://localhost:8080/"
        },
        "outputId": "cb811ac1-ac9c-4ede-9a60-c582e3f71ba4"
      },
      "id": "2sjfHbgA5d8Y",
      "execution_count": 1,
      "outputs": [
        {
          "output_type": "stream",
          "name": "stdout",
          "text": [
            "Looking in indexes: https://pypi.org/simple, https://us-python.pkg.dev/colab-wheels/public/simple/\n",
            "Requirement already satisfied: ipython-autotime in /usr/local/lib/python3.7/dist-packages (0.3.1)\n",
            "Requirement already satisfied: ipython in /usr/local/lib/python3.7/dist-packages (from ipython-autotime) (5.5.0)\n",
            "Requirement already satisfied: simplegeneric>0.8 in /usr/local/lib/python3.7/dist-packages (from ipython->ipython-autotime) (0.8.1)\n",
            "Requirement already satisfied: pexpect in /usr/local/lib/python3.7/dist-packages (from ipython->ipython-autotime) (4.8.0)\n",
            "Requirement already satisfied: pickleshare in /usr/local/lib/python3.7/dist-packages (from ipython->ipython-autotime) (0.7.5)\n",
            "Requirement already satisfied: pygments in /usr/local/lib/python3.7/dist-packages (from ipython->ipython-autotime) (2.6.1)\n",
            "Requirement already satisfied: setuptools>=18.5 in /usr/local/lib/python3.7/dist-packages (from ipython->ipython-autotime) (57.4.0)\n",
            "Requirement already satisfied: traitlets>=4.2 in /usr/local/lib/python3.7/dist-packages (from ipython->ipython-autotime) (5.1.1)\n",
            "Requirement already satisfied: prompt-toolkit<2.0.0,>=1.0.4 in /usr/local/lib/python3.7/dist-packages (from ipython->ipython-autotime) (1.0.18)\n",
            "Requirement already satisfied: decorator in /usr/local/lib/python3.7/dist-packages (from ipython->ipython-autotime) (4.4.2)\n",
            "Requirement already satisfied: wcwidth in /usr/local/lib/python3.7/dist-packages (from prompt-toolkit<2.0.0,>=1.0.4->ipython->ipython-autotime) (0.2.5)\n",
            "Requirement already satisfied: six>=1.9.0 in /usr/local/lib/python3.7/dist-packages (from prompt-toolkit<2.0.0,>=1.0.4->ipython->ipython-autotime) (1.15.0)\n",
            "Requirement already satisfied: ptyprocess>=0.5 in /usr/local/lib/python3.7/dist-packages (from pexpect->ipython->ipython-autotime) (0.7.0)\n",
            "time: 158 ms (started: 2022-08-14 21:31:54 +00:00)\n"
          ]
        }
      ]
    },
    {
      "cell_type": "code",
      "source": [
        "!gdown 1NXzAquurYrTSxMv6sEsWyDdty5teVg0r\n",
        "!gdown 1k0rH0x2rAhHki9urSjVNS8xLwt3P-KPp\n",
        "!gdown 136vZHxiyLKsyLl2iAJoSNZQQW9mZ__1J"
      ],
      "metadata": {
        "id": "D5cV-ffCwaWP",
        "colab": {
          "base_uri": "https://localhost:8080/"
        },
        "outputId": "6097dc68-81ea-4c1a-d5b5-ef116213c17c"
      },
      "id": "D5cV-ffCwaWP",
      "execution_count": 2,
      "outputs": [
        {
          "output_type": "stream",
          "name": "stdout",
          "text": [
            "Downloading...\n",
            "From: https://drive.google.com/uc?id=1NXzAquurYrTSxMv6sEsWyDdty5teVg0r\n",
            "To: /content/application_test.csv\n",
            "100% 50.2M/50.2M [00:00<00:00, 171MB/s]\n",
            "Downloading...\n",
            "From: https://drive.google.com/uc?id=1k0rH0x2rAhHki9urSjVNS8xLwt3P-KPp\n",
            "To: /content/application_train.csv\n",
            "100% 117M/117M [00:00<00:00, 150MB/s]\n",
            "Downloading...\n",
            "From: https://drive.google.com/uc?id=136vZHxiyLKsyLl2iAJoSNZQQW9mZ__1J\n",
            "To: /content/HomeCredit_columns_description.csv\n",
            "100% 24.6k/24.6k [00:00<00:00, 11.8MB/s]\n",
            "time: 7.97 s (started: 2022-08-14 21:31:54 +00:00)\n"
          ]
        }
      ]
    },
    {
      "cell_type": "code",
      "source": [
        "from google.colab import drive\n",
        "drive.mount('/content/drive')"
      ],
      "metadata": {
        "colab": {
          "base_uri": "https://localhost:8080/"
        },
        "id": "-PaeMOTD0_nS",
        "outputId": "9e8de328-1b27-49bf-bd33-3ac940dc6de4"
      },
      "id": "-PaeMOTD0_nS",
      "execution_count": 3,
      "outputs": [
        {
          "output_type": "stream",
          "name": "stdout",
          "text": [
            "Drive already mounted at /content/drive; to attempt to forcibly remount, call drive.mount(\"/content/drive\", force_remount=True).\n",
            "time: 1.88 s (started: 2022-08-14 21:32:02 +00:00)\n"
          ]
        }
      ]
    },
    {
      "cell_type": "markdown",
      "id": "25a0a724-ceb1-40cb-b123-b8c907a9c06f",
      "metadata": {
        "id": "25a0a724-ceb1-40cb-b123-b8c907a9c06f"
      },
      "source": [
        "1.1. Load the training and test datasets using pandas `read_csv()` function. Assign them to `app_train` and `app_test` variables respectively."
      ]
    },
    {
      "cell_type": "code",
      "execution_count": 4,
      "id": "1d62ba4d-a3f6-443b-8c3e-65582a85d8a6",
      "metadata": {
        "id": "1d62ba4d-a3f6-443b-8c3e-65582a85d8a6",
        "colab": {
          "base_uri": "https://localhost:8080/"
        },
        "outputId": "6799bc7b-40a2-4a4d-db17-a4ecb29ea310"
      },
      "outputs": [
        {
          "output_type": "stream",
          "name": "stdout",
          "text": [
            "time: 7.7 s (started: 2022-08-14 21:32:04 +00:00)\n"
          ]
        }
      ],
      "source": [
        "### Complete in this cell: Loading the dataset\n",
        "app_train  = pd.read_csv(\"application_train.csv\")\n",
        "app_test = pd.read_csv(\"application_test.csv\")"
      ]
    },
    {
      "cell_type": "markdown",
      "source": [
        "**Don't change anything in this cell, just make it run correctly**"
      ],
      "metadata": {
        "id": "MnA4l8-rWraC"
      },
      "id": "MnA4l8-rWraC"
    },
    {
      "cell_type": "code",
      "source": [
        "if app_train.shape == (215257, 123):\n",
        "  print('Success: app_train shape is correct!')\n",
        "else:\n",
        "  raise ValueError('Train dataset shape is incorrect, please review your code')\n",
        "\n",
        "if isinstance(app_train, pd.DataFrame):\n",
        "  print('Success: app_train type is correct!')\n",
        "else:\n",
        "  raise ValueError('Train dataset type is incorrect, please review your code')\n",
        "\n",
        "if app_test.shape == (92254, 123):\n",
        "  print('Success: app_test shape is correct!')\n",
        "else:\n",
        "  raise ValueError('Test dataset shape is incorrect, please review your code')\n",
        "\n",
        "if isinstance(app_test, pd.DataFrame):\n",
        "  print('Success: app_test type is correct!')\n",
        "else:\n",
        "  raise ValueError('Test dataset type is incorrect, please review your code')"
      ],
      "metadata": {
        "id": "jrkLdOJnWoSS",
        "colab": {
          "base_uri": "https://localhost:8080/"
        },
        "outputId": "67da2d35-8b89-4395-f051-0c8df3157d93"
      },
      "id": "jrkLdOJnWoSS",
      "execution_count": 5,
      "outputs": [
        {
          "output_type": "stream",
          "name": "stdout",
          "text": [
            "Success: app_train shape is correct!\n",
            "Success: app_train type is correct!\n",
            "Success: app_test shape is correct!\n",
            "Success: app_test type is correct!\n",
            "time: 20.7 ms (started: 2022-08-14 21:32:12 +00:00)\n"
          ]
        }
      ]
    },
    {
      "cell_type": "markdown",
      "id": "7c10a608-5c38-44f4-8158-18225619e7ae",
      "metadata": {
        "tags": [],
        "id": "7c10a608-5c38-44f4-8158-18225619e7ae"
      },
      "source": [
        "### Exploratory Data Analysis"
      ]
    },
    {
      "cell_type": "markdown",
      "id": "6bc490ab-a7b3-4590-a93c-70df44787682",
      "metadata": {
        "id": "6bc490ab-a7b3-4590-a93c-70df44787682"
      },
      "source": [
        "A lot of the analysis of the data can be found on public available Kaggle kernels or blog posts, but you need to make sure you understand the datasets properties before starting working on it, so we'll do exploratory data analysis for the main files"
      ]
    },
    {
      "cell_type": "markdown",
      "id": "2ea774d3-e12c-4c2b-846d-8c5c03e70928",
      "metadata": {
        "id": "2ea774d3-e12c-4c2b-846d-8c5c03e70928"
      },
      "source": [
        "**Dataset Basics**"
      ]
    },
    {
      "cell_type": "markdown",
      "id": "9f0b4817-5768-49d2-b5f2-907827541f16",
      "metadata": {
        "id": "9f0b4817-5768-49d2-b5f2-907827541f16"
      },
      "source": [
        "1.2. Print how many samples do we have in our train and test datasets."
      ]
    },
    {
      "cell_type": "code",
      "execution_count": 6,
      "id": "6a98fdd5-cbf2-4d20-9559-89c7cf5943cd",
      "metadata": {
        "id": "6a98fdd5-cbf2-4d20-9559-89c7cf5943cd",
        "colab": {
          "base_uri": "https://localhost:8080/"
        },
        "outputId": "0a5d9df8-f6c2-49b8-9ca7-d887e784ac4d"
      },
      "outputs": [
        {
          "output_type": "stream",
          "name": "stdout",
          "text": [
            "(215257, 123)\n",
            "(92254, 123)\n",
            "time: 1.97 ms (started: 2022-08-14 21:32:12 +00:00)\n"
          ]
        }
      ],
      "source": [
        "### Complete in this cell: shape of the dataset\n",
        "print(app_train.shape)\n",
        "print(app_test.shape)"
      ]
    },
    {
      "cell_type": "markdown",
      "id": "74e7a95b-8288-4ead-8c1e-f2cf68167d8e",
      "metadata": {
        "id": "74e7a95b-8288-4ead-8c1e-f2cf68167d8e"
      },
      "source": [
        "1.3. List all columns in the train dataset."
      ]
    },
    {
      "cell_type": "code",
      "execution_count": 7,
      "id": "d7af2f2e-93db-41e6-bb26-df1ad0be7786",
      "metadata": {
        "id": "d7af2f2e-93db-41e6-bb26-df1ad0be7786",
        "colab": {
          "base_uri": "https://localhost:8080/"
        },
        "outputId": "e890ff35-35c3-4dff-a6be-435978c68353"
      },
      "outputs": [
        {
          "output_type": "stream",
          "name": "stdout",
          "text": [
            "['Unnamed: 0' 'SK_ID_CURR' 'TARGET' 'NAME_CONTRACT_TYPE' 'CODE_GENDER'\n",
            " 'FLAG_OWN_CAR' 'FLAG_OWN_REALTY' 'CNT_CHILDREN' 'AMT_INCOME_TOTAL'\n",
            " 'AMT_CREDIT' 'AMT_ANNUITY' 'AMT_GOODS_PRICE' 'NAME_TYPE_SUITE'\n",
            " 'NAME_INCOME_TYPE' 'NAME_EDUCATION_TYPE' 'NAME_FAMILY_STATUS'\n",
            " 'NAME_HOUSING_TYPE' 'REGION_POPULATION_RELATIVE' 'DAYS_BIRTH'\n",
            " 'DAYS_EMPLOYED' 'DAYS_REGISTRATION' 'DAYS_ID_PUBLISH' 'OWN_CAR_AGE'\n",
            " 'FLAG_MOBIL' 'FLAG_EMP_PHONE' 'FLAG_WORK_PHONE' 'FLAG_CONT_MOBILE'\n",
            " 'FLAG_PHONE' 'FLAG_EMAIL' 'OCCUPATION_TYPE' 'CNT_FAM_MEMBERS'\n",
            " 'REGION_RATING_CLIENT' 'REGION_RATING_CLIENT_W_CITY'\n",
            " 'WEEKDAY_APPR_PROCESS_START' 'HOUR_APPR_PROCESS_START'\n",
            " 'REG_REGION_NOT_LIVE_REGION' 'REG_REGION_NOT_WORK_REGION'\n",
            " 'LIVE_REGION_NOT_WORK_REGION' 'REG_CITY_NOT_LIVE_CITY'\n",
            " 'REG_CITY_NOT_WORK_CITY' 'LIVE_CITY_NOT_WORK_CITY' 'ORGANIZATION_TYPE'\n",
            " 'EXT_SOURCE_1' 'EXT_SOURCE_2' 'EXT_SOURCE_3' 'APARTMENTS_AVG'\n",
            " 'BASEMENTAREA_AVG' 'YEARS_BEGINEXPLUATATION_AVG' 'YEARS_BUILD_AVG'\n",
            " 'COMMONAREA_AVG' 'ELEVATORS_AVG' 'ENTRANCES_AVG' 'FLOORSMAX_AVG'\n",
            " 'FLOORSMIN_AVG' 'LANDAREA_AVG' 'LIVINGAPARTMENTS_AVG' 'LIVINGAREA_AVG'\n",
            " 'NONLIVINGAPARTMENTS_AVG' 'NONLIVINGAREA_AVG' 'APARTMENTS_MODE'\n",
            " 'BASEMENTAREA_MODE' 'YEARS_BEGINEXPLUATATION_MODE' 'YEARS_BUILD_MODE'\n",
            " 'COMMONAREA_MODE' 'ELEVATORS_MODE' 'ENTRANCES_MODE' 'FLOORSMAX_MODE'\n",
            " 'FLOORSMIN_MODE' 'LANDAREA_MODE' 'LIVINGAPARTMENTS_MODE'\n",
            " 'LIVINGAREA_MODE' 'NONLIVINGAPARTMENTS_MODE' 'NONLIVINGAREA_MODE'\n",
            " 'APARTMENTS_MEDI' 'BASEMENTAREA_MEDI' 'YEARS_BEGINEXPLUATATION_MEDI'\n",
            " 'YEARS_BUILD_MEDI' 'COMMONAREA_MEDI' 'ELEVATORS_MEDI' 'ENTRANCES_MEDI'\n",
            " 'FLOORSMAX_MEDI' 'FLOORSMIN_MEDI' 'LANDAREA_MEDI' 'LIVINGAPARTMENTS_MEDI'\n",
            " 'LIVINGAREA_MEDI' 'NONLIVINGAPARTMENTS_MEDI' 'NONLIVINGAREA_MEDI'\n",
            " 'FONDKAPREMONT_MODE' 'HOUSETYPE_MODE' 'TOTALAREA_MODE'\n",
            " 'WALLSMATERIAL_MODE' 'EMERGENCYSTATE_MODE' 'OBS_30_CNT_SOCIAL_CIRCLE'\n",
            " 'DEF_30_CNT_SOCIAL_CIRCLE' 'OBS_60_CNT_SOCIAL_CIRCLE'\n",
            " 'DEF_60_CNT_SOCIAL_CIRCLE' 'DAYS_LAST_PHONE_CHANGE' 'FLAG_DOCUMENT_2'\n",
            " 'FLAG_DOCUMENT_3' 'FLAG_DOCUMENT_4' 'FLAG_DOCUMENT_5' 'FLAG_DOCUMENT_6'\n",
            " 'FLAG_DOCUMENT_7' 'FLAG_DOCUMENT_8' 'FLAG_DOCUMENT_9' 'FLAG_DOCUMENT_10'\n",
            " 'FLAG_DOCUMENT_11' 'FLAG_DOCUMENT_12' 'FLAG_DOCUMENT_13'\n",
            " 'FLAG_DOCUMENT_14' 'FLAG_DOCUMENT_15' 'FLAG_DOCUMENT_16'\n",
            " 'FLAG_DOCUMENT_17' 'FLAG_DOCUMENT_18' 'FLAG_DOCUMENT_19'\n",
            " 'FLAG_DOCUMENT_20' 'FLAG_DOCUMENT_21' 'AMT_REQ_CREDIT_BUREAU_HOUR'\n",
            " 'AMT_REQ_CREDIT_BUREAU_DAY' 'AMT_REQ_CREDIT_BUREAU_WEEK'\n",
            " 'AMT_REQ_CREDIT_BUREAU_MON' 'AMT_REQ_CREDIT_BUREAU_QRT'\n",
            " 'AMT_REQ_CREDIT_BUREAU_YEAR']\n",
            "time: 2.15 ms (started: 2022-08-14 21:32:12 +00:00)\n"
          ]
        }
      ],
      "source": [
        "### Complete in this cell: Show all columns in the training dataset \n",
        "print(app_train.columns.values)"
      ]
    },
    {
      "cell_type": "markdown",
      "id": "2dc4835f-90c3-4049-9ec2-44d102201104",
      "metadata": {
        "id": "2dc4835f-90c3-4049-9ec2-44d102201104"
      },
      "source": [
        "1.4. Show the first 5 records of the training dataset, transpose the dataframe to see each record as a column and features as rows, make sure all features are visualized. Take your time to review what kind of information you can gather from this data."
      ]
    },
    {
      "cell_type": "code",
      "execution_count": 8,
      "id": "ac9c85b3-52e0-4b80-9753-afb81f92bd0d",
      "metadata": {
        "id": "ac9c85b3-52e0-4b80-9753-afb81f92bd0d",
        "colab": {
          "base_uri": "https://localhost:8080/",
          "height": 224
        },
        "outputId": "39dff141-f3d2-4fad-a9f3-dcebb7f9f940"
      },
      "outputs": [
        {
          "output_type": "execute_result",
          "data": {
            "text/plain": [
              "                             0           1           2           3           4\n",
              "Unnamed: 0              187399       84777      268140      270686       33785\n",
              "SK_ID_CURR              317244      198357      410700      413785      139141\n",
              "TARGET                       0           0           0           0           0\n",
              "NAME_CONTRACT_TYPE  Cash loans  Cash loans  Cash loans  Cash loans  Cash loans\n",
              "CODE_GENDER                  F           M           F           F           F"
            ],
            "text/html": [
              "\n",
              "  <div id=\"df-7b0a2842-9966-40f6-9948-bb8ff02bc5d9\">\n",
              "    <div class=\"colab-df-container\">\n",
              "      <div>\n",
              "<style scoped>\n",
              "    .dataframe tbody tr th:only-of-type {\n",
              "        vertical-align: middle;\n",
              "    }\n",
              "\n",
              "    .dataframe tbody tr th {\n",
              "        vertical-align: top;\n",
              "    }\n",
              "\n",
              "    .dataframe thead th {\n",
              "        text-align: right;\n",
              "    }\n",
              "</style>\n",
              "<table border=\"1\" class=\"dataframe\">\n",
              "  <thead>\n",
              "    <tr style=\"text-align: right;\">\n",
              "      <th></th>\n",
              "      <th>0</th>\n",
              "      <th>1</th>\n",
              "      <th>2</th>\n",
              "      <th>3</th>\n",
              "      <th>4</th>\n",
              "    </tr>\n",
              "  </thead>\n",
              "  <tbody>\n",
              "    <tr>\n",
              "      <th>Unnamed: 0</th>\n",
              "      <td>187399</td>\n",
              "      <td>84777</td>\n",
              "      <td>268140</td>\n",
              "      <td>270686</td>\n",
              "      <td>33785</td>\n",
              "    </tr>\n",
              "    <tr>\n",
              "      <th>SK_ID_CURR</th>\n",
              "      <td>317244</td>\n",
              "      <td>198357</td>\n",
              "      <td>410700</td>\n",
              "      <td>413785</td>\n",
              "      <td>139141</td>\n",
              "    </tr>\n",
              "    <tr>\n",
              "      <th>TARGET</th>\n",
              "      <td>0</td>\n",
              "      <td>0</td>\n",
              "      <td>0</td>\n",
              "      <td>0</td>\n",
              "      <td>0</td>\n",
              "    </tr>\n",
              "    <tr>\n",
              "      <th>NAME_CONTRACT_TYPE</th>\n",
              "      <td>Cash loans</td>\n",
              "      <td>Cash loans</td>\n",
              "      <td>Cash loans</td>\n",
              "      <td>Cash loans</td>\n",
              "      <td>Cash loans</td>\n",
              "    </tr>\n",
              "    <tr>\n",
              "      <th>CODE_GENDER</th>\n",
              "      <td>F</td>\n",
              "      <td>M</td>\n",
              "      <td>F</td>\n",
              "      <td>F</td>\n",
              "      <td>F</td>\n",
              "    </tr>\n",
              "  </tbody>\n",
              "</table>\n",
              "</div>\n",
              "      <button class=\"colab-df-convert\" onclick=\"convertToInteractive('df-7b0a2842-9966-40f6-9948-bb8ff02bc5d9')\"\n",
              "              title=\"Convert this dataframe to an interactive table.\"\n",
              "              style=\"display:none;\">\n",
              "        \n",
              "  <svg xmlns=\"http://www.w3.org/2000/svg\" height=\"24px\"viewBox=\"0 0 24 24\"\n",
              "       width=\"24px\">\n",
              "    <path d=\"M0 0h24v24H0V0z\" fill=\"none\"/>\n",
              "    <path d=\"M18.56 5.44l.94 2.06.94-2.06 2.06-.94-2.06-.94-.94-2.06-.94 2.06-2.06.94zm-11 1L8.5 8.5l.94-2.06 2.06-.94-2.06-.94L8.5 2.5l-.94 2.06-2.06.94zm10 10l.94 2.06.94-2.06 2.06-.94-2.06-.94-.94-2.06-.94 2.06-2.06.94z\"/><path d=\"M17.41 7.96l-1.37-1.37c-.4-.4-.92-.59-1.43-.59-.52 0-1.04.2-1.43.59L10.3 9.45l-7.72 7.72c-.78.78-.78 2.05 0 2.83L4 21.41c.39.39.9.59 1.41.59.51 0 1.02-.2 1.41-.59l7.78-7.78 2.81-2.81c.8-.78.8-2.07 0-2.86zM5.41 20L4 18.59l7.72-7.72 1.47 1.35L5.41 20z\"/>\n",
              "  </svg>\n",
              "      </button>\n",
              "      \n",
              "  <style>\n",
              "    .colab-df-container {\n",
              "      display:flex;\n",
              "      flex-wrap:wrap;\n",
              "      gap: 12px;\n",
              "    }\n",
              "\n",
              "    .colab-df-convert {\n",
              "      background-color: #E8F0FE;\n",
              "      border: none;\n",
              "      border-radius: 50%;\n",
              "      cursor: pointer;\n",
              "      display: none;\n",
              "      fill: #1967D2;\n",
              "      height: 32px;\n",
              "      padding: 0 0 0 0;\n",
              "      width: 32px;\n",
              "    }\n",
              "\n",
              "    .colab-df-convert:hover {\n",
              "      background-color: #E2EBFA;\n",
              "      box-shadow: 0px 1px 2px rgba(60, 64, 67, 0.3), 0px 1px 3px 1px rgba(60, 64, 67, 0.15);\n",
              "      fill: #174EA6;\n",
              "    }\n",
              "\n",
              "    [theme=dark] .colab-df-convert {\n",
              "      background-color: #3B4455;\n",
              "      fill: #D2E3FC;\n",
              "    }\n",
              "\n",
              "    [theme=dark] .colab-df-convert:hover {\n",
              "      background-color: #434B5C;\n",
              "      box-shadow: 0px 1px 3px 1px rgba(0, 0, 0, 0.15);\n",
              "      filter: drop-shadow(0px 1px 2px rgba(0, 0, 0, 0.3));\n",
              "      fill: #FFFFFF;\n",
              "    }\n",
              "  </style>\n",
              "\n",
              "      <script>\n",
              "        const buttonEl =\n",
              "          document.querySelector('#df-7b0a2842-9966-40f6-9948-bb8ff02bc5d9 button.colab-df-convert');\n",
              "        buttonEl.style.display =\n",
              "          google.colab.kernel.accessAllowed ? 'block' : 'none';\n",
              "\n",
              "        async function convertToInteractive(key) {\n",
              "          const element = document.querySelector('#df-7b0a2842-9966-40f6-9948-bb8ff02bc5d9');\n",
              "          const dataTable =\n",
              "            await google.colab.kernel.invokeFunction('convertToInteractive',\n",
              "                                                     [key], {});\n",
              "          if (!dataTable) return;\n",
              "\n",
              "          const docLinkHtml = 'Like what you see? Visit the ' +\n",
              "            '<a target=\"_blank\" href=https://colab.research.google.com/notebooks/data_table.ipynb>data table notebook</a>'\n",
              "            + ' to learn more about interactive tables.';\n",
              "          element.innerHTML = '';\n",
              "          dataTable['output_type'] = 'display_data';\n",
              "          await google.colab.output.renderOutput(dataTable, element);\n",
              "          const docLink = document.createElement('div');\n",
              "          docLink.innerHTML = docLinkHtml;\n",
              "          element.appendChild(docLink);\n",
              "        }\n",
              "      </script>\n",
              "    </div>\n",
              "  </div>\n",
              "  "
            ]
          },
          "metadata": {},
          "execution_count": 8
        },
        {
          "output_type": "stream",
          "name": "stdout",
          "text": [
            "time: 50.6 ms (started: 2022-08-14 21:32:12 +00:00)\n"
          ]
        }
      ],
      "source": [
        "### Complete in this cell: show first 5 records in a transposed table\n",
        "pd.options.display.max_rows = None\n",
        "v = app_train.head(5)\n",
        "v.transpose().head(5)\n",
        "\n"
      ]
    },
    {
      "cell_type": "markdown",
      "id": "59da8f46-e503-4b67-8e73-ac61c394824c",
      "metadata": {
        "id": "59da8f46-e503-4b67-8e73-ac61c394824c"
      },
      "source": [
        "1.5. Show the distribution of the target variable values: print the total value count and the percentage of each value, plot this relationship."
      ]
    },
    {
      "cell_type": "code",
      "execution_count": 9,
      "id": "8855d370-c825-415b-9dd0-9dbdd576fada",
      "metadata": {
        "id": "8855d370-c825-415b-9dd0-9dbdd576fada",
        "colab": {
          "base_uri": "https://localhost:8080/",
          "height": 473
        },
        "outputId": "a96dfbdc-cce3-4d2f-dfa9-7577d558832a"
      },
      "outputs": [
        {
          "output_type": "stream",
          "name": "stdout",
          "text": [
            "0    197882\n",
            "1     17375\n",
            "Name: TARGET, dtype: int64\n",
            "0    91.928253\n",
            "1     8.071747\n",
            "Name: TARGET, dtype: float64\n"
          ]
        },
        {
          "output_type": "stream",
          "name": "stderr",
          "text": [
            "/usr/local/lib/python3.7/dist-packages/seaborn/_decorators.py:43: FutureWarning: Pass the following variable as a keyword arg: x. From version 0.12, the only valid positional argument will be `data`, and passing other arguments without an explicit keyword will result in an error or misinterpretation.\n",
            "  FutureWarning\n"
          ]
        },
        {
          "output_type": "execute_result",
          "data": {
            "text/plain": [
              "<matplotlib.axes._subplots.AxesSubplot at 0x7ff3f8420510>"
            ]
          },
          "metadata": {},
          "execution_count": 9
        },
        {
          "output_type": "display_data",
          "data": {
            "text/plain": [
              "<Figure size 432x288 with 1 Axes>"
            ],
            "image/png": "[encoded data removed]"
          },
          "metadata": {
            "needs_background": "light"
          }
        },
        {
          "output_type": "stream",
          "name": "stdout",
          "text": [
            "time: 658 ms (started: 2022-08-14 21:32:12 +00:00)\n"
          ]
        }
      ],
      "source": [
        "### Complete in this cell: show distribution of target variable\n",
        "print(app_train.TARGET.value_counts())\n",
        "print(app_train.TARGET.value_counts(normalize=True)*100)\n",
        "sns.countplot(app_train.TARGET)"
      ]
    },
    {
      "cell_type": "markdown",
      "id": "cc7b5a63-da31-4a61-9e91-9708dc7633a7",
      "metadata": {
        "id": "cc7b5a63-da31-4a61-9e91-9708dc7633a7"
      },
      "source": [
        "1.6. Show the number of columns of each data type.\n",
        "\n",
        "Just for giving you an idea, the output should look like this (not exactly the same numbers):\n",
        "\n",
        "```python\n",
        "float64    45\n",
        "int64      32\n",
        "object     10\n",
        "```"
      ]
    },
    {
      "cell_type": "code",
      "execution_count": 10,
      "id": "b74878dd-cc48-4e69-bc35-e90457d54b3a",
      "metadata": {
        "id": "b74878dd-cc48-4e69-bc35-e90457d54b3a",
        "colab": {
          "base_uri": "https://localhost:8080/"
        },
        "outputId": "2dce3f25-7d26-431c-ed7d-50a1b6e8da77"
      },
      "outputs": [
        {
          "output_type": "stream",
          "name": "stdout",
          "text": [
            "float64    65\n",
            "int64      42\n",
            "object     16\n",
            "time: 12.9 ms (started: 2022-08-14 21:32:13 +00:00)\n"
          ]
        }
      ],
      "source": [
        "### Complete in this cell: show number of columns per data type\n",
        "s = app_train.dtypes.value_counts()\n",
        "print(s.to_string())"
      ]
    },
    {
      "cell_type": "markdown",
      "id": "c0a8799e-d32a-4239-a85d-6ff29ab4682f",
      "metadata": {
        "id": "c0a8799e-d32a-4239-a85d-6ff29ab4682f"
      },
      "source": [
        "1.7. For categorical variables, show the number of distinct values in each column (number of labels).\n",
        "\n",
        "Just for giving you an idea, the output should look like this (not exactly the same numbers):\n",
        "\n",
        "```python\n",
        "NAME_CONTRACT_TYPE             5\n",
        "CODE_GENDER                    2\n",
        "FLAG_OWN_CAR                   1\n",
        "FLAG_OWN_REALTY                1\n",
        "...\n",
        "```"
      ]
    },
    {
      "cell_type": "code",
      "execution_count": 11,
      "id": "8b294976-dc0d-44bd-9bf6-29ba1f6a2e2b",
      "metadata": {
        "id": "8b294976-dc0d-44bd-9bf6-29ba1f6a2e2b",
        "colab": {
          "base_uri": "https://localhost:8080/"
        },
        "outputId": "9ab763a2-7839-497b-c431-1737ca459d75"
      },
      "outputs": [
        {
          "output_type": "execute_result",
          "data": {
            "text/plain": [
              "ORGANIZATION_TYPE             58\n",
              "OCCUPATION_TYPE               18\n",
              "NAME_INCOME_TYPE               8\n",
              "NAME_TYPE_SUITE                7\n",
              "WEEKDAY_APPR_PROCESS_START     7\n",
              "WALLSMATERIAL_MODE             7\n",
              "NAME_FAMILY_STATUS             6\n",
              "NAME_HOUSING_TYPE              6\n",
              "NAME_EDUCATION_TYPE            5\n",
              "FONDKAPREMONT_MODE             4\n",
              "CODE_GENDER                    3\n",
              "HOUSETYPE_MODE                 3\n",
              "NAME_CONTRACT_TYPE             2\n",
              "FLAG_OWN_CAR                   2\n",
              "FLAG_OWN_REALTY                2\n",
              "EMERGENCYSTATE_MODE            2\n",
              "dtype: int64"
            ]
          },
          "metadata": {},
          "execution_count": 11
        },
        {
          "output_type": "stream",
          "name": "stdout",
          "text": [
            "time: 1.57 s (started: 2022-08-14 21:32:13 +00:00)\n"
          ]
        }
      ],
      "source": [
        "### Complete in this cell: show number of unique values per categorical column\n",
        "number_seems_categ_cols = []\n",
        "threshold = 25 # I considered that all columns with less than 25 unique values, are categorical\n",
        "# It is possible that categories like \"family members\" are not categorical\n",
        "for each in app_train.columns:\n",
        "    if app_train[each].nunique() < threshold:\n",
        "        number_seems_categ_cols.append(each)\n",
        "\n",
        "object_cols = app_train.select_dtypes(include=['object']).columns.to_list()\n",
        "categ_cols = number_seems_categ_cols + object_cols\n",
        "\n",
        "app_train[object_cols].nunique().sort_values(ascending=False)"
      ]
    },
    {
      "cell_type": "markdown",
      "id": "967d1938-e27d-4fbd-9bdc-f26364f5fdfd",
      "metadata": {
        "id": "967d1938-e27d-4fbd-9bdc-f26364f5fdfd"
      },
      "source": [
        "1.8. Analyzing missing data: show the percentage of missing data for each column ordered by percentage descending (show only the 20 columns with higher missing pct)\n",
        "\n",
        "Just for giving you an idea, the output should look like this (not exactly the same numbers and columns names):\n",
        "\n",
        "```python\n",
        "                   Total   Percent\n",
        "COMMONAREA_AVG    121000      85.2\n",
        "COMMONAREA_MODE   121000      76.6\n",
        "COMMONAREA_MEDI   121000      62.9\n",
        "...\n",
        "```"
      ]
    },
    {
      "cell_type": "code",
      "execution_count": 12,
      "id": "0b65aa7e-d8a2-44b0-9803-ca5277471470",
      "metadata": {
        "id": "0b65aa7e-d8a2-44b0-9803-ca5277471470",
        "colab": {
          "base_uri": "https://localhost:8080/"
        },
        "outputId": "9cd32e17-8d46-48dd-c0dd-ff31870ce14b"
      },
      "outputs": [
        {
          "output_type": "stream",
          "name": "stdout",
          "text": [
            "                           Total  Percent\n",
            "column_name                              \n",
            "COMMONAREA_AVG            150393     69.9\n",
            "COMMONAREA_MODE           150393     69.9\n",
            "COMMONAREA_MEDI           150393     69.9\n",
            "NONLIVINGAPARTMENTS_MODE  149483     69.4\n",
            "NONLIVINGAPARTMENTS_AVG   149483     69.4\n",
            "NONLIVINGAPARTMENTS_MEDI  149483     69.4\n",
            "FONDKAPREMONT_MODE        147217     68.4\n",
            "LIVINGAPARTMENTS_MODE     147144     68.4\n",
            "LIVINGAPARTMENTS_MEDI     147144     68.4\n",
            "LIVINGAPARTMENTS_AVG      147144     68.4\n",
            "FLOORSMIN_MODE            146070     67.9\n",
            "FLOORSMIN_AVG             146070     67.9\n",
            "FLOORSMIN_MEDI            146070     67.9\n",
            "YEARS_BUILD_AVG           143149     66.5\n",
            "YEARS_BUILD_MODE          143149     66.5\n",
            "YEARS_BUILD_MEDI          143149     66.5\n",
            "OWN_CAR_AGE               142017     66.0\n",
            "LANDAREA_MEDI             127983     59.5\n",
            "LANDAREA_MODE             127983     59.5\n",
            "LANDAREA_AVG              127983     59.5\n",
            "time: 818 ms (started: 2022-08-14 21:32:14 +00:00)\n"
          ]
        }
      ],
      "source": [
        "### Complete in this cell: checking missing data\n",
        "missing_values = app_train.isnull().sum()\n",
        "percent_missing = round(app_train.isnull().sum() * 100 / len(app_train),1)\n",
        "missing_value_df = pd.DataFrame({'column_name': app_train.columns,'Total':missing_values,\n",
        "                                 'Percent': percent_missing})\n",
        "missing_value_df.set_index('column_name', inplace=True)\n",
        "Miss = missing_value_df.sort_values(by=\"Percent\", ascending=False).head(20)\n",
        "print(Miss.to_string())"
      ]
    },
    {
      "cell_type": "markdown",
      "id": "783c5bb6-6b6d-4e34-bbe2-3a5dc319a4f0",
      "metadata": {
        "id": "783c5bb6-6b6d-4e34-bbe2-3a5dc319a4f0"
      },
      "source": [
        "**Analyzing distribution of variables**"
      ]
    },
    {
      "cell_type": "markdown",
      "id": "9c79d319-bde8-47a4-890d-6694edf221e2",
      "metadata": {
        "id": "9c79d319-bde8-47a4-890d-6694edf221e2"
      },
      "source": [
        "1.9. Show the distribution of credit amounts."
      ]
    },
    {
      "cell_type": "code",
      "execution_count": 13,
      "id": "bc953042-9744-498e-a435-fa660e76c70d",
      "metadata": {
        "id": "bc953042-9744-498e-a435-fa660e76c70d",
        "colab": {
          "base_uri": "https://localhost:8080/",
          "height": 335
        },
        "outputId": "d08262e7-6f9e-4592-c4ee-4feeeac55c21"
      },
      "outputs": [
        {
          "output_type": "execute_result",
          "data": {
            "text/plain": [
              "Text(0.5, 1.0, 'Distribution of credit amounts')"
            ]
          },
          "metadata": {},
          "execution_count": 13
        },
        {
          "output_type": "display_data",
          "data": {
            "text/plain": [
              "<Figure size 432x288 with 1 Axes>"
            ],
            "image/png": "[encoded data removed]"
          },
          "metadata": {
            "needs_background": "light"
          }
        },
        {
          "output_type": "stream",
          "name": "stdout",
          "text": [
            "time: 2.89 s (started: 2022-08-14 21:32:15 +00:00)\n"
          ]
        }
      ],
      "source": [
        "### Complete in this cell: distribution of credit amounts\n",
        "app_train.columns[app_train.columns.str.contains('cred', case = False)] # For detect the column with credit amounts\n",
        "\n",
        "sns.kdeplot(app_train.AMT_CREDIT/1000000, shade=True)\n",
        "plt.xlabel('Credit amount of the loan in millon of dollars', fontsize=12)\n",
        "plt.ylabel('Density', fontsize=12)\n",
        "plt.title('Distribution of credit amounts', fontsize=16)\n"
      ]
    },
    {
      "cell_type": "markdown",
      "id": "f4e7bf4a-25c7-47c0-aea8-ed916d8827f6",
      "metadata": {
        "id": "f4e7bf4a-25c7-47c0-aea8-ed916d8827f6"
      },
      "source": [
        "1.10. Plot the education level of the credit applicants, show the percentages of each category. Also print the total counts for each category."
      ]
    },
    {
      "cell_type": "code",
      "execution_count": 14,
      "id": "406d7d06-b21a-4938-8e3d-11798def489b",
      "metadata": {
        "id": "406d7d06-b21a-4938-8e3d-11798def489b",
        "colab": {
          "base_uri": "https://localhost:8080/",
          "height": 449
        },
        "outputId": "49250d37-c252-4f30-bc15-e2f672de104e"
      },
      "outputs": [
        {
          "output_type": "stream",
          "name": "stdout",
          "text": [
            "Secondary / secondary special    153062\n",
            "Higher education                  52283\n",
            "Incomplete higher                  7166\n",
            "Lower secondary                    2634\n",
            "Academic degree                     112\n",
            "Name: NAME_EDUCATION_TYPE, dtype: int64\n"
          ]
        },
        {
          "output_type": "display_data",
          "data": {
            "text/plain": [
              "<Figure size 432x288 with 1 Axes>"
            ],
            "image/png": "[encoded data removed]"
          },
          "metadata": {
            "needs_background": "light"
          }
        },
        {
          "output_type": "stream",
          "name": "stdout",
          "text": [
            "time: 755 ms (started: 2022-08-14 21:32:18 +00:00)\n"
          ]
        }
      ],
      "source": [
        "### Complete in this cell: level of education plot\n",
        "app_train.columns[app_train.columns.str.contains('educ', case = False)] # For detect the column with education level\n",
        "print(app_train.NAME_EDUCATION_TYPE.value_counts())\n",
        "order= app_train['NAME_EDUCATION_TYPE'].value_counts().index\n",
        "ax = sns.countplot(y=app_train.NAME_EDUCATION_TYPE , orient = 'h', order=order)\n",
        "plt.xlabel('Quantity of credit applicants', fontsize=14)\n",
        "plt.xticks(rotation=45)\n",
        "plt.ylabel('Education level', fontsize=14)\n",
        "plt.title('Education level of the credit applicants', fontsize=18)\n",
        "sns.despine()\n",
        "for p in ax.patches:\n",
        "    ax.annotate(str(round(p.get_width()/len(app_train)*100, 2)) + '%',((p.get_x() + p.get_width()), p.get_y()), xytext=(43, -18),fontsize=11,\n",
        "                textcoords='offset points', horizontalalignment='right')"
      ]
    },
    {
      "cell_type": "markdown",
      "id": "78e17d30-acce-4b7f-bacc-af488cda3e7d",
      "metadata": {
        "id": "78e17d30-acce-4b7f-bacc-af488cda3e7d"
      },
      "source": [
        "1.11. Plot the distribution of ocupation of the loan applicants"
      ]
    },
    {
      "cell_type": "code",
      "execution_count": 15,
      "id": "ec101d97-c77b-4e5d-b69f-7c2f8f652d8f",
      "metadata": {
        "id": "ec101d97-c77b-4e5d-b69f-7c2f8f652d8f",
        "colab": {
          "base_uri": "https://localhost:8080/",
          "height": 340
        },
        "outputId": "73b35e4f-8649-4f7e-9da5-14ede0e509db"
      },
      "outputs": [
        {
          "output_type": "display_data",
          "data": {
            "text/plain": [
              "<Figure size 432x288 with 1 Axes>"
            ],
            "image/png": "[encoded data removed]"
          },
          "metadata": {
            "needs_background": "light"
          }
        },
        {
          "output_type": "stream",
          "name": "stdout",
          "text": [
            "time: 864 ms (started: 2022-08-14 21:32:19 +00:00)\n"
          ]
        }
      ],
      "source": [
        "### Complete in this cell: ocupation of applicants\n",
        "app_train.columns[app_train.columns.str.contains('occup', case = False)] # For detect the column with occupations\n",
        "\n",
        "order= app_train['OCCUPATION_TYPE'].value_counts().index\n",
        "ax = sns.countplot(y=app_train.OCCUPATION_TYPE , orient = 'h', order=order)\n",
        "plt.xlabel('Quantity of credit applicants', fontsize=14)\n",
        "plt.xticks(rotation=45)\n",
        "plt.ylabel('Occupations', fontsize=14)\n",
        "plt.title('Occupation of the loan applicants', fontsize=18)\n",
        "sns.despine()"
      ]
    },
    {
      "cell_type": "markdown",
      "id": "824b1bc0-4dad-4ce8-b574-cbae5984a589",
      "metadata": {
        "id": "824b1bc0-4dad-4ce8-b574-cbae5984a589"
      },
      "source": [
        "1.12. Plot the family status of the applicants"
      ]
    },
    {
      "cell_type": "code",
      "execution_count": 16,
      "id": "95463328-4392-435e-a203-95e28998930b",
      "metadata": {
        "id": "95463328-4392-435e-a203-95e28998930b",
        "colab": {
          "base_uri": "https://localhost:8080/",
          "height": 344
        },
        "outputId": "e15b6202-0f72-4e24-c5bd-598d0ed05c98"
      },
      "outputs": [
        {
          "output_type": "display_data",
          "data": {
            "text/plain": [
              "<Figure size 432x288 with 1 Axes>"
            ],
            "image/png": "[encoded data removed]"
          },
          "metadata": {
            "needs_background": "light"
          }
        },
        {
          "output_type": "stream",
          "name": "stdout",
          "text": [
            "time: 1.24 s (started: 2022-08-14 21:32:20 +00:00)\n"
          ]
        }
      ],
      "source": [
        "### Complete in this cell: family status\n",
        "app_train.columns[app_train.columns.str.contains('family', case = False)] # For detect the column with family status\n",
        "\n",
        "order= app_train['NAME_FAMILY_STATUS'].value_counts().index\n",
        "ax = sns.countplot(y=app_train.NAME_FAMILY_STATUS , orient = 'h', order=order)\n",
        "plt.xlabel('Quantity of credit applicants', fontsize=14)\n",
        "plt.xticks(rotation=45)\n",
        "plt.ylabel('Family status', fontsize=14)\n",
        "plt.title('Family status of the loan applicants', fontsize=18)\n",
        "sns.despine()"
      ]
    },
    {
      "cell_type": "markdown",
      "id": "efa77db6-a50a-454e-b1b2-83abe3c8baae",
      "metadata": {
        "id": "efa77db6-a50a-454e-b1b2-83abe3c8baae"
      },
      "source": [
        "1.13. Plot the income type of applicants grouped by the target variable"
      ]
    },
    {
      "cell_type": "code",
      "execution_count": 17,
      "id": "409f8fe1-9e19-4b3b-8723-a8e1d65312f5",
      "metadata": {
        "id": "409f8fe1-9e19-4b3b-8723-a8e1d65312f5",
        "colab": {
          "base_uri": "https://localhost:8080/",
          "height": 344
        },
        "outputId": "f73381a7-6e8b-4f88-a844-488a3e01a8b1"
      },
      "outputs": [
        {
          "output_type": "display_data",
          "data": {
            "text/plain": [
              "<Figure size 432x288 with 1 Axes>"
            ],
            "image/png": "[encoded data removed]"
          },
          "metadata": {
            "needs_background": "light"
          }
        },
        {
          "output_type": "stream",
          "name": "stdout",
          "text": [
            "time: 1.19 s (started: 2022-08-14 21:32:21 +00:00)\n"
          ]
        }
      ],
      "source": [
        "### Complete in this cell: income type \n",
        "app_train.columns[app_train.columns.str.contains('income', case = False)] # For detect the column with income type\n",
        "\n",
        "order= app_train['NAME_INCOME_TYPE'].value_counts().index\n",
        "ax = sns.countplot(y=app_train.NAME_INCOME_TYPE , orient = 'h', order=order)\n",
        "plt.xlabel('Quantity of credit applicants', fontsize=14)\n",
        "plt.xticks(rotation=45)\n",
        "plt.ylabel('Income type', fontsize=14)\n",
        "plt.title('Income type of the loan applicants', fontsize=18)\n",
        "sns.despine()"
      ]
    },
    {
      "cell_type": "code",
      "execution_count": 18,
      "id": "f22c3267-56c8-45fc-9184-b822cd026571",
      "metadata": {
        "id": "f22c3267-56c8-45fc-9184-b822cd026571",
        "colab": {
          "base_uri": "https://localhost:8080/",
          "height": 344
        },
        "outputId": "b42dcfab-9031-4c88-f2e4-6735fe36d5bc"
      },
      "outputs": [
        {
          "output_type": "display_data",
          "data": {
            "text/plain": [
              "<Figure size 432x288 with 1 Axes>"
            ],
            "image/png": "[encoded data removed]"
          },
          "metadata": {
            "needs_background": "light"
          }
        },
        {
          "output_type": "stream",
          "name": "stdout",
          "text": [
            "time: 1.77 s (started: 2022-08-14 21:32:22 +00:00)\n"
          ]
        }
      ],
      "source": [
        "### Complete in this cell: Income type of applicants by target variable\n",
        "order= app_train['NAME_INCOME_TYPE'].value_counts().index\n",
        "ax = sns.countplot(y=app_train.NAME_INCOME_TYPE , orient = 'h', order=order, hue=app_train.TARGET)\n",
        "plt.xlabel('Quantity of credit applicants', fontsize=14)\n",
        "plt.xticks(rotation=45)\n",
        "plt.ylabel('Income type', fontsize=14)\n",
        "plt.title('Income type of the loan applicants', fontsize=18)\n",
        "sns.despine()"
      ]
    },
    {
      "cell_type": "markdown",
      "id": "675b1ae3-c943-4737-bdb8-2ecff733b27b",
      "metadata": {
        "id": "675b1ae3-c943-4737-bdb8-2ecff733b27b"
      },
      "source": [
        "## 2. Preprocessing"
      ]
    },
    {
      "cell_type": "markdown",
      "source": [
        "2.1. The first step will be separate our train and test datasets columns between Features and Targets.\n",
        "\n",
        "- Assign to `X_train` those columns from `app_train` that should be used as features for training our models.\n",
        "- Assign to `y_train` the single column from `app_train` that should be used as our target (i.e. what we want to predict).\n",
        "- Assign to `X_test` those columns from `app_test` that should be used as features for training our models.\n",
        "- Assign to `y_test` the single column from `app_test` that should be used as our target (i.e. what we want to predict).\n"
      ],
      "metadata": {
        "id": "VvT_6ZEOztAQ"
      },
      "id": "VvT_6ZEOztAQ"
    },
    {
      "cell_type": "code",
      "source": [
        "### Complete in this cell\n",
        "X_train = app_train.loc[:, app_train.columns !=\"TARGET\"]\n",
        "y_train = app_train.TARGET\n",
        "X_test = app_test.loc[:, app_test.columns !=\"TARGET\"]\n",
        "y_test = app_test.TARGET"
      ],
      "metadata": {
        "id": "Mm9px1oQztZT",
        "colab": {
          "base_uri": "https://localhost:8080/"
        },
        "outputId": "284e676a-ce9d-4e28-fdd8-3290dbf63ee0"
      },
      "id": "Mm9px1oQztZT",
      "execution_count": 19,
      "outputs": [
        {
          "output_type": "stream",
          "name": "stdout",
          "text": [
            "time: 1.24 s (started: 2022-08-14 21:32:24 +00:00)\n"
          ]
        }
      ]
    },
    {
      "cell_type": "markdown",
      "source": [
        "**Don't change anything in this cell, just make it run correctly**"
      ],
      "metadata": {
        "id": "wrkoywq9aNvJ"
      },
      "id": "wrkoywq9aNvJ"
    },
    {
      "cell_type": "code",
      "source": [
        "if X_train.shape == (215257, 122):\n",
        "  print('Success: X_train shape is correct!')\n",
        "else:\n",
        "  raise ValueError('X_train dataset shape is incorrect, please review your code')\n",
        "\n",
        "if isinstance(X_train, pd.DataFrame):\n",
        "  print('Success: X_train type is correct!')\n",
        "else:\n",
        "  raise ValueError('Train dataset type is incorrect, please review your code')\n",
        "\n",
        "if y_train.shape == (215257,) or y_train.shape == (215257, 1):\n",
        "  print('Success: y_train shape is correct!')\n",
        "else:\n",
        "  raise ValueError('Train labels shape is incorrect, please review your code')\n",
        "\n",
        "if X_test.shape == (92254, 122):\n",
        "  print('Success: X_test shape is correct!')\n",
        "else:\n",
        "  raise ValueError('Test dataset shape is incorrect, please review your code')\n",
        "\n",
        "if isinstance(X_test, pd.DataFrame):\n",
        "  print('Success: X_test type is correct!')\n",
        "else:\n",
        "  raise ValueError('Test dataset type is incorrect, please review your code')\n",
        "\n",
        "if y_test.shape == (92254,) or y_test.shape == (92254, 1):\n",
        "  print('Success: y_test shape is correct!')\n",
        "else:\n",
        "  raise ValueError('Test labels shape is incorrect, please review your code')\n"
      ],
      "metadata": {
        "id": "5F5UeGj1aNvJ",
        "colab": {
          "base_uri": "https://localhost:8080/"
        },
        "outputId": "1ba84198-a388-426c-e5ba-8a19dfaaabb1"
      },
      "execution_count": 20,
      "outputs": [
        {
          "output_type": "stream",
          "name": "stdout",
          "text": [
            "Success: X_train shape is correct!\n",
            "Success: X_train type is correct!\n",
            "Success: y_train shape is correct!\n",
            "Success: X_test shape is correct!\n",
            "Success: X_test type is correct!\n",
            "Success: y_test shape is correct!\n",
            "time: 56.9 ms (started: 2022-08-14 21:32:25 +00:00)\n"
          ]
        }
      ],
      "id": "5F5UeGj1aNvJ"
    },
    {
      "cell_type": "markdown",
      "id": "51397c38-0204-454b-8fe6-011dc8c38418",
      "metadata": {
        "id": "51397c38-0204-454b-8fe6-011dc8c38418"
      },
      "source": [
        "2.2. In this section, you will code a function to make all the data pre processing for the dataset. What you have to deliver is a function that takes `X_train` and `X_test` dataframes, processes all features, and returns the transformed data as numpy arrays ready to be used for training.\n",
        "\n",
        "The function should perform these activities:\n",
        "\n",
        "- Correct outliers/anomalous values in numerical columns (hint: take a look at the DAYS_EMPLOYED column)\n",
        "- Impute values for all columns with missing data (use median as imputing value)\n",
        "- Encode categorical features:\n",
        "    - If feature has 2 categories encode using binary encoding\n",
        "    - More than 2 categories, use one hot encoding \n",
        "- Feature scaling\n",
        "\n",
        "**Important note:** Keep in mind that you could get different number of columns in train and test because some category could only be present in one of the dataframes, this could create more one hot encoded columns. You should align train and test to have the same number of columns. Check `pandas.DataFrame.align()` function.\n",
        "\n",
        "Complete the function `preprocess_data(train_df: pd.DataFrame, test_df: pd.DataFrame)` following the instructions given above."
      ]
    },
    {
      "cell_type": "code",
      "execution_count": 27,
      "id": "27bfc706-a0ab-4711-9bb1-4fa77a6993d3",
      "metadata": {
        "id": "27bfc706-a0ab-4711-9bb1-4fa77a6993d3",
        "colab": {
          "base_uri": "https://localhost:8080/"
        },
        "outputId": "7acd2cde-b6da-4323-f20d-4e214fb397da"
      },
      "outputs": [
        {
          "output_type": "stream",
          "name": "stdout",
          "text": [
            "time: 34.9 ms (started: 2022-08-14 21:39:47 +00:00)\n"
          ]
        }
      ],
      "source": [
        "### Complete in this cell: Data pre processing function\n",
        "def preprocess_data(train_df: pd.DataFrame, test_df: pd.DataFrame):\n",
        "  X_train_processed = X_train.copy()\n",
        "  X_train_processed.loc[X_train_processed[\"DAYS_EMPLOYED\"] > 0, \"DAYS_EMPLOYED\"] = X_train_processed[X_train_processed[\"DAYS_EMPLOYED\"] < 0][\"DAYS_EMPLOYED\"].median()\n",
        "  \n",
        "  num_cols = X_train.select_dtypes('number').columns\n",
        "  for col in num_cols:\n",
        "    X_train_processed[col].fillna(value=X_train_processed[col].median(), inplace=True)\n",
        "  \n",
        "  Scaler = preprocessing.RobustScaler()\n",
        "  X_train_processed[num_cols] = Scaler.fit_transform(X_train_processed[num_cols])\n",
        "  \n",
        "  for col in object_cols:\n",
        "    imputer = SimpleImputer(strategy=\"most_frequent\")\n",
        "    X_train_processed[[col]] = imputer.fit_transform(X_train_processed[[col]])\n",
        "  transformer = make_column_transformer((OneHotEncoder(drop=\"if_binary\", handle_unknown='ignore'), object_cols), remainder='passthrough')\n",
        "  transformed_train = transformer.fit_transform(X_train_processed)\n",
        "  transformed_df_train = pd.DataFrame(transformed_train, columns=transformer.get_feature_names())\n",
        "\n",
        "  X_test_processed = X_test.copy()\n",
        "  X_test_processed.loc[X_test_processed[\"DAYS_EMPLOYED\"] > 0, \"DAYS_EMPLOYED\"] = X_test_processed[X_test_processed[\"DAYS_EMPLOYED\"] < 0][\"DAYS_EMPLOYED\"].median()\n",
        "  \n",
        "  for col in num_cols:\n",
        "    X_test_processed[col].fillna(value=X_test_processed[col].median(), inplace=True)\n",
        "  \n",
        "  X_test_processed[num_cols] = Scaler.transform(X_test_processed[num_cols])\n",
        "  \n",
        "  for col in object_cols:\n",
        "    X_test_processed[[col]] = imputer.transform(X_test_processed[[col]])\n",
        "  transformed_test = transformer.transform(X_test_processed)\n",
        "  transformed_df_test = pd.DataFrame(transformed_test, columns=transformer.get_feature_names())\n",
        "  \n",
        "  train_data = np.array(transformed_df_train)\n",
        "  test_data = np.array(transformed_df_test)\n",
        "    \n",
        "  return train_data, test_data"
      ]
    },
    {
      "cell_type": "markdown",
      "source": [
        "In the following cell we are going to execute the functions you've just coded. No need to modify this.\n",
        "\n",
        "**Important Note:** From now on, you must always use `train_data` for training your models and `test_data` only for the final evaluation of the model trained."
      ],
      "metadata": {
        "id": "-1YXG39vc2qX"
      },
      "id": "-1YXG39vc2qX"
    },
    {
      "cell_type": "markdown",
      "source": [
        "**Don't change anything in this cell, just make it run correctly**"
      ],
      "metadata": {
        "id": "mMkqwi0gd7a8"
      },
      "id": "mMkqwi0gd7a8"
    },
    {
      "cell_type": "code",
      "execution_count": 28,
      "id": "98df784f-3e3c-42ac-8c09-b6a3d8dacf8b",
      "metadata": {
        "id": "98df784f-3e3c-42ac-8c09-b6a3d8dacf8b",
        "colab": {
          "base_uri": "https://localhost:8080/"
        },
        "outputId": "119a5aea-f464-4031-d4be-fa42eebbd166"
      },
      "outputs": [
        {
          "output_type": "stream",
          "name": "stderr",
          "text": [
            "/usr/local/lib/python3.7/dist-packages/sklearn/utils/deprecation.py:87: FutureWarning: Function get_feature_names is deprecated; get_feature_names is deprecated in 1.0 and will be removed in 1.2. Please use get_feature_names_out instead.\n",
            "  warnings.warn(msg, category=FutureWarning)\n",
            "/usr/local/lib/python3.7/dist-packages/sklearn/base.py:493: FutureWarning: The feature names should match those that were passed during fit. Starting version 1.2, an error will be raised.\n",
            "Feature names unseen at fit time:\n",
            "- NAME_CONTRACT_TYPE\n",
            "Feature names seen at fit time, yet now missing:\n",
            "- EMERGENCYSTATE_MODE\n",
            "\n",
            "  warnings.warn(message, FutureWarning)\n",
            "/usr/local/lib/python3.7/dist-packages/sklearn/base.py:493: FutureWarning: The feature names should match those that were passed during fit. Starting version 1.2, an error will be raised.\n",
            "Feature names unseen at fit time:\n",
            "- CODE_GENDER\n",
            "Feature names seen at fit time, yet now missing:\n",
            "- EMERGENCYSTATE_MODE\n",
            "\n",
            "  warnings.warn(message, FutureWarning)\n",
            "/usr/local/lib/python3.7/dist-packages/sklearn/base.py:493: FutureWarning: The feature names should match those that were passed during fit. Starting version 1.2, an error will be raised.\n",
            "Feature names unseen at fit time:\n",
            "- FLAG_OWN_CAR\n",
            "Feature names seen at fit time, yet now missing:\n",
            "- EMERGENCYSTATE_MODE\n",
            "\n",
            "  warnings.warn(message, FutureWarning)\n",
            "/usr/local/lib/python3.7/dist-packages/sklearn/base.py:493: FutureWarning: The feature names should match those that were passed during fit. Starting version 1.2, an error will be raised.\n",
            "Feature names unseen at fit time:\n",
            "- FLAG_OWN_REALTY\n",
            "Feature names seen at fit time, yet now missing:\n",
            "- EMERGENCYSTATE_MODE\n",
            "\n",
            "  warnings.warn(message, FutureWarning)\n",
            "/usr/local/lib/python3.7/dist-packages/sklearn/base.py:493: FutureWarning: The feature names should match those that were passed during fit. Starting version 1.2, an error will be raised.\n",
            "Feature names unseen at fit time:\n",
            "- NAME_TYPE_SUITE\n",
            "Feature names seen at fit time, yet now missing:\n",
            "- EMERGENCYSTATE_MODE\n",
            "\n",
            "  warnings.warn(message, FutureWarning)\n",
            "/usr/local/lib/python3.7/dist-packages/sklearn/base.py:493: FutureWarning: The feature names should match those that were passed during fit. Starting version 1.2, an error will be raised.\n",
            "Feature names unseen at fit time:\n",
            "- NAME_INCOME_TYPE\n",
            "Feature names seen at fit time, yet now missing:\n",
            "- EMERGENCYSTATE_MODE\n",
            "\n",
            "  warnings.warn(message, FutureWarning)\n",
            "/usr/local/lib/python3.7/dist-packages/sklearn/base.py:493: FutureWarning: The feature names should match those that were passed during fit. Starting version 1.2, an error will be raised.\n",
            "Feature names unseen at fit time:\n",
            "- NAME_EDUCATION_TYPE\n",
            "Feature names seen at fit time, yet now missing:\n",
            "- EMERGENCYSTATE_MODE\n",
            "\n",
            "  warnings.warn(message, FutureWarning)\n",
            "/usr/local/lib/python3.7/dist-packages/sklearn/base.py:493: FutureWarning: The feature names should match those that were passed during fit. Starting version 1.2, an error will be raised.\n",
            "Feature names unseen at fit time:\n",
            "- NAME_FAMILY_STATUS\n",
            "Feature names seen at fit time, yet now missing:\n",
            "- EMERGENCYSTATE_MODE\n",
            "\n",
            "  warnings.warn(message, FutureWarning)\n",
            "/usr/local/lib/python3.7/dist-packages/sklearn/base.py:493: FutureWarning: The feature names should match those that were passed during fit. Starting version 1.2, an error will be raised.\n",
            "Feature names unseen at fit time:\n",
            "- NAME_HOUSING_TYPE\n",
            "Feature names seen at fit time, yet now missing:\n",
            "- EMERGENCYSTATE_MODE\n",
            "\n",
            "  warnings.warn(message, FutureWarning)\n",
            "/usr/local/lib/python3.7/dist-packages/sklearn/base.py:493: FutureWarning: The feature names should match those that were passed during fit. Starting version 1.2, an error will be raised.\n",
            "Feature names unseen at fit time:\n",
            "- OCCUPATION_TYPE\n",
            "Feature names seen at fit time, yet now missing:\n",
            "- EMERGENCYSTATE_MODE\n",
            "\n",
            "  warnings.warn(message, FutureWarning)\n",
            "/usr/local/lib/python3.7/dist-packages/sklearn/base.py:493: FutureWarning: The feature names should match those that were passed during fit. Starting version 1.2, an error will be raised.\n",
            "Feature names unseen at fit time:\n",
            "- WEEKDAY_APPR_PROCESS_START\n",
            "Feature names seen at fit time, yet now missing:\n",
            "- EMERGENCYSTATE_MODE\n",
            "\n",
            "  warnings.warn(message, FutureWarning)\n",
            "/usr/local/lib/python3.7/dist-packages/sklearn/base.py:493: FutureWarning: The feature names should match those that were passed during fit. Starting version 1.2, an error will be raised.\n",
            "Feature names unseen at fit time:\n",
            "- ORGANIZATION_TYPE\n",
            "Feature names seen at fit time, yet now missing:\n",
            "- EMERGENCYSTATE_MODE\n",
            "\n",
            "  warnings.warn(message, FutureWarning)\n",
            "/usr/local/lib/python3.7/dist-packages/sklearn/base.py:493: FutureWarning: The feature names should match those that were passed during fit. Starting version 1.2, an error will be raised.\n",
            "Feature names unseen at fit time:\n",
            "- FONDKAPREMONT_MODE\n",
            "Feature names seen at fit time, yet now missing:\n",
            "- EMERGENCYSTATE_MODE\n",
            "\n",
            "  warnings.warn(message, FutureWarning)\n",
            "/usr/local/lib/python3.7/dist-packages/sklearn/base.py:493: FutureWarning: The feature names should match those that were passed during fit. Starting version 1.2, an error will be raised.\n",
            "Feature names unseen at fit time:\n",
            "- HOUSETYPE_MODE\n",
            "Feature names seen at fit time, yet now missing:\n",
            "- EMERGENCYSTATE_MODE\n",
            "\n",
            "  warnings.warn(message, FutureWarning)\n",
            "/usr/local/lib/python3.7/dist-packages/sklearn/base.py:493: FutureWarning: The feature names should match those that were passed during fit. Starting version 1.2, an error will be raised.\n",
            "Feature names unseen at fit time:\n",
            "- WALLSMATERIAL_MODE\n",
            "Feature names seen at fit time, yet now missing:\n",
            "- EMERGENCYSTATE_MODE\n",
            "\n",
            "  warnings.warn(message, FutureWarning)\n",
            "/usr/local/lib/python3.7/dist-packages/sklearn/preprocessing/_encoders.py:174: UserWarning: Found unknown categories in columns [4, 9, 12, 13, 14] during transform. These unknown categories will be encoded as all zeros\n",
            "  UserWarning,\n",
            "/usr/local/lib/python3.7/dist-packages/sklearn/utils/deprecation.py:87: FutureWarning: Function get_feature_names is deprecated; get_feature_names is deprecated in 1.0 and will be removed in 1.2. Please use get_feature_names_out instead.\n",
            "  warnings.warn(msg, category=FutureWarning)\n"
          ]
        },
        {
          "output_type": "stream",
          "name": "stdout",
          "text": [
            "time: 7.59 s (started: 2022-08-14 21:39:49 +00:00)\n"
          ]
        }
      ],
      "source": [
        "train_data, test_data = preprocess_data(X_train, X_test)"
      ]
    },
    {
      "cell_type": "markdown",
      "source": [
        "**Don't change anything in this cell, just make it run correctly**"
      ],
      "metadata": {
        "id": "rupRp_y2cyYe"
      },
      "id": "rupRp_y2cyYe"
    },
    {
      "cell_type": "code",
      "source": [
        "if train_data.shape == (215257, 242):\n",
        "  print('Success: train_data shape is correct!')\n",
        "else:\n",
        "  raise ValueError('train_data dataset shape is incorrect, please review your code')\n",
        "\n",
        "if isinstance(train_data, np.ndarray):\n",
        "  print('Success: train_data type is correct!')\n",
        "else:\n",
        "  raise ValueError('Train dataset type is incorrect, please review your code')\n",
        "\n",
        "if test_data.shape == (92254, 242):\n",
        "  print('Success: test_data shape is correct!')\n",
        "else:\n",
        "  raise ValueError('test_data dataset shape is incorrect, please review your code')\n",
        "\n",
        "if isinstance(test_data, np.ndarray):\n",
        "  print('Success: test_data type is correct!')\n",
        "else:\n",
        "  raise ValueError('Train dataset type is incorrect, please review your code')\n"
      ],
      "metadata": {
        "id": "whWcb5jtcyYe",
        "colab": {
          "base_uri": "https://localhost:8080/"
        },
        "outputId": "3b6076f4-d400-48ee-b2ae-eae133182ee3"
      },
      "execution_count": 29,
      "outputs": [
        {
          "output_type": "stream",
          "name": "stdout",
          "text": [
            "Success: train_data shape is correct!\n",
            "Success: train_data type is correct!\n",
            "Success: test_data shape is correct!\n",
            "Success: test_data type is correct!\n",
            "time: 7.47 ms (started: 2022-08-14 21:40:05 +00:00)\n"
          ]
        }
      ],
      "id": "whWcb5jtcyYe"
    },
    {
      "cell_type": "markdown",
      "id": "2f5df1e8-1f03-4f14-9dbd-292d3b84859d",
      "metadata": {
        "id": "2f5df1e8-1f03-4f14-9dbd-292d3b84859d"
      },
      "source": [
        "## 3. Training Models"
      ]
    },
    {
      "cell_type": "markdown",
      "id": "83062f02-7157-4083-b57b-78fbc95fe39b",
      "metadata": {
        "id": "83062f02-7157-4083-b57b-78fbc95fe39b"
      },
      "source": [
        "As usual, you will start training simple models and will progressively move to more complex models and pipelines.\n",
        "\n",
        "**Pro tip:** It is of utmost importance to make an accurate estimation of the time required to train a machine learning model. Because of this, we recommend you to use Python [time](https://docs.python.org/3/library/time.html) library or Jupyter magic function `%%time` on the cell you're training your model to get an estimate of the time it took to fit your data."
      ]
    },
    {
      "cell_type": "markdown",
      "id": "7e99a786-a17e-4caa-9ac7-48fced40fa71",
      "metadata": {
        "id": "7e99a786-a17e-4caa-9ac7-48fced40fa71"
      },
      "source": [
        "### Baseline: LogisticRegression"
      ]
    },
    {
      "cell_type": "markdown",
      "id": "91e10796-6d86-4fce-8738-4b9c4fbbf359",
      "metadata": {
        "id": "91e10796-6d86-4fce-8738-4b9c4fbbf359"
      },
      "source": [
        "3.1. Import LogisticRegression from sklearn and train a model using the preprocesed train data from the previous section, and just default parameters. If you receive a warning because the algorithm failed to converge, try increasing the number of iterations or decreasing the C parameter.\n",
        "\n",
        "Assign the trained model to `log_reg` variable."
      ]
    },
    {
      "cell_type": "code",
      "execution_count": 30,
      "id": "e1285054-4ea6-4bdb-9477-e774fc3d04c5",
      "metadata": {
        "id": "e1285054-4ea6-4bdb-9477-e774fc3d04c5",
        "colab": {
          "base_uri": "https://localhost:8080/"
        },
        "outputId": "d0a272f0-e0ea-46f6-b8f5-4b0114eef800"
      },
      "outputs": [
        {
          "output_type": "stream",
          "name": "stdout",
          "text": [
            "time: 2min 33s (started: 2022-08-14 21:40:43 +00:00)\n"
          ]
        },
        {
          "output_type": "stream",
          "name": "stderr",
          "text": [
            "/usr/local/lib/python3.7/dist-packages/sklearn/linear_model/_logistic.py:818: ConvergenceWarning: lbfgs failed to converge (status=1):\n",
            "STOP: TOTAL NO. of ITERATIONS REACHED LIMIT.\n",
            "\n",
            "Increase the number of iterations (max_iter) or scale the data as shown in:\n",
            "    https://scikit-learn.org/stable/modules/preprocessing.html\n",
            "Please also refer to the documentation for alternative solver options:\n",
            "    https://scikit-learn.org/stable/modules/linear_model.html#logistic-regression\n",
            "  extra_warning_msg=_LOGISTIC_SOLVER_CONVERGENCE_MSG,\n"
          ]
        }
      ],
      "source": [
        "### Complete in this cell: train a logistic regression, assign to `log_reg` variable\n",
        "log_reg = LogisticRegression(max_iter=1000, C=0.1, random_state=1).fit(train_data, y_train)"
      ]
    },
    {
      "cell_type": "markdown",
      "source": [
        "**Don't change anything in this cell, just make it run correctly**"
      ],
      "metadata": {
        "id": "2OTXvqibhqid"
      },
      "id": "2OTXvqibhqid"
    },
    {
      "cell_type": "code",
      "source": [
        "if isinstance(log_reg, LogisticRegression):\n",
        "  print('Success: Logistic regression model type is correct!')\n",
        "else:\n",
        "  raise ValueError('Logistic regression model type is incorrect, please review your code')"
      ],
      "metadata": {
        "id": "JmFsb5DShqid",
        "colab": {
          "base_uri": "https://localhost:8080/"
        },
        "outputId": "a4acdb22-103b-4db5-eb54-b3de033fc1f9"
      },
      "execution_count": 31,
      "outputs": [
        {
          "output_type": "stream",
          "name": "stdout",
          "text": [
            "Success: Logistic regression model type is correct!\n",
            "time: 4.66 ms (started: 2022-08-14 21:43:26 +00:00)\n"
          ]
        }
      ],
      "id": "JmFsb5DShqid"
    },
    {
      "cell_type": "markdown",
      "id": "018d5c7e-012f-47cc-8bfc-0332de907ae9",
      "metadata": {
        "id": "018d5c7e-012f-47cc-8bfc-0332de907ae9"
      },
      "source": [
        "3.2. Use the trained model to predict probabilities for the test data.\n",
        "\n",
        "**Important note:** When using the function `predict_proba()` for getting model probabilities you will get, for each sample, a tuple indicating the probability for class 0 and for class 1 respectively. For computing the AUC ROC score we only need the probability that the debt is not repaid (equivalent to class 1)."
      ]
    },
    {
      "cell_type": "code",
      "execution_count": 32,
      "id": "798ae69b-1fe2-458d-9de7-3e1ed70b9b02",
      "metadata": {
        "id": "798ae69b-1fe2-458d-9de7-3e1ed70b9b02",
        "colab": {
          "base_uri": "https://localhost:8080/"
        },
        "outputId": "5c55c97c-8843-43cf-85fb-8e413237fe4a"
      },
      "outputs": [
        {
          "output_type": "stream",
          "name": "stdout",
          "text": [
            "time: 66.7 ms (started: 2022-08-14 21:43:32 +00:00)\n"
          ]
        }
      ],
      "source": [
        "### Complete in this cell: predict test data\n",
        "\n",
        "Pred_probs = log_reg.predict_proba(test_data)[:, 1]"
      ]
    },
    {
      "cell_type": "markdown",
      "id": "b0826305-4900-4ba1-bf25-48205be980c6",
      "metadata": {
        "id": "b0826305-4900-4ba1-bf25-48205be980c6"
      },
      "source": [
        "3.3. Get AUC ROC score on test dataset. See [scikit-learn AUC ROC function](https://scikit-learn.org/stable/modules/generated/sklearn.metrics.roc_auc_score.html) for a working implementation.\n",
        "\n",
        "Assign the AUC ROC score to `lr_roc_auc` variable.\n"
      ]
    },
    {
      "cell_type": "code",
      "source": [
        "### Complete in this cell: calculate roc_auc_score.\n",
        "### Assign to `lr_roc_auc` variable.\n",
        "lr_roc_auc = roc_auc_score(y_test, Pred_probs)\n",
        "lr_roc_auc"
      ],
      "metadata": {
        "id": "9_KaFn_oyXT3",
        "colab": {
          "base_uri": "https://localhost:8080/"
        },
        "outputId": "fb95b2bd-77fe-4b74-bd29-f8a653bd1a20"
      },
      "id": "9_KaFn_oyXT3",
      "execution_count": 33,
      "outputs": [
        {
          "output_type": "execute_result",
          "data": {
            "text/plain": [
              "0.7425212357021275"
            ]
          },
          "metadata": {},
          "execution_count": 33
        },
        {
          "output_type": "stream",
          "name": "stdout",
          "text": [
            "time: 42.6 ms (started: 2022-08-14 21:43:54 +00:00)\n"
          ]
        }
      ]
    },
    {
      "cell_type": "markdown",
      "id": "4d889582-0c21-4789-acac-4d58f8eb74d9",
      "metadata": {
        "id": "4d889582-0c21-4789-acac-4d58f8eb74d9"
      },
      "source": [
        "At this point, the model should produce a result around 0.67 "
      ]
    },
    {
      "cell_type": "markdown",
      "source": [
        "**Don't change anything in this cell, just make it run correctly**"
      ],
      "metadata": {
        "id": "ap_JpPoNidg2"
      },
      "id": "ap_JpPoNidg2"
    },
    {
      "cell_type": "code",
      "source": [
        "if isinstance(lr_roc_auc, float):\n",
        "  print('Success: AUC ROC score type is correct!')\n",
        "else:\n",
        "  raise ValueError('AUC ROC score type is incorrect, please review your code')\n",
        "\n",
        "if lr_roc_auc >= 0.63:\n",
        "  print('Success: AUC ROC score is correct!')\n",
        "else:\n",
        "  raise ValueError('AUC ROC score is incorrect, please review your code')"
      ],
      "metadata": {
        "id": "KWSHN2Ouidg2",
        "colab": {
          "base_uri": "https://localhost:8080/"
        },
        "outputId": "170209a5-6c14-4479-f979-5a9dc0409aff"
      },
      "execution_count": 34,
      "outputs": [
        {
          "output_type": "stream",
          "name": "stdout",
          "text": [
            "Success: AUC ROC score type is correct!\n",
            "Success: AUC ROC score is correct!\n",
            "time: 4.07 ms (started: 2022-08-14 21:44:39 +00:00)\n"
          ]
        }
      ],
      "id": "KWSHN2Ouidg2"
    },
    {
      "cell_type": "markdown",
      "id": "8f8300cc-d8be-4303-9042-757cb9e15d3e",
      "metadata": {
        "id": "8f8300cc-d8be-4303-9042-757cb9e15d3e"
      },
      "source": [
        "### Training a Random Forest Classifier "
      ]
    },
    {
      "cell_type": "markdown",
      "id": "05280b49-11af-4fe6-9236-95f31fb5e0d5",
      "metadata": {
        "id": "05280b49-11af-4fe6-9236-95f31fb5e0d5"
      },
      "source": [
        "You're gonna start working in more complex models: ensambles, particularly, you're going to use the Random Forest Classifier from Scikit Learn. "
      ]
    },
    {
      "cell_type": "markdown",
      "id": "0efdfd67-ec68-49b3-8727-7ab9784b5e54",
      "metadata": {
        "id": "0efdfd67-ec68-49b3-8727-7ab9784b5e54"
      },
      "source": [
        "3.4. Train a RandomForestClassifier, print the time taken by the fit function. Just use default hyperparameters, except for n_jobs, which should be set to \"-1\" to allow the library to use all CPU cores to speed up training time.\n",
        "\n",
        "Assign the trained model to `rf` variable."
      ]
    },
    {
      "cell_type": "code",
      "execution_count": 35,
      "id": "1d3b9ea6-4bf9-42f0-aed1-1c0f3a4f9b39",
      "metadata": {
        "id": "1d3b9ea6-4bf9-42f0-aed1-1c0f3a4f9b39",
        "colab": {
          "base_uri": "https://localhost:8080/"
        },
        "outputId": "265385a7-d2c0-49ab-c8e0-6291618ab3c6"
      },
      "outputs": [
        {
          "output_type": "stream",
          "name": "stdout",
          "text": [
            "time: 2min 49s (started: 2022-08-14 21:45:05 +00:00)\n"
          ]
        }
      ],
      "source": [
        "### Complete in this cell: train a RandomForestClassifier\n",
        "### Assgign to `rf`\n",
        "rf = RandomForestClassifier(random_state=42, n_jobs=-1).fit(train_data, y_train)\n"
      ]
    },
    {
      "cell_type": "markdown",
      "id": "3b12a0a5-8ff1-4cb6-9928-37122d2a3435",
      "metadata": {
        "id": "3b12a0a5-8ff1-4cb6-9928-37122d2a3435"
      },
      "source": [
        "3.5. Use the classifier to predict probabilities on the test set.\n",
        "\n"
      ]
    },
    {
      "cell_type": "code",
      "execution_count": 36,
      "id": "4ba80108-858c-4d4e-ba19-7f19fa526dc9",
      "metadata": {
        "id": "4ba80108-858c-4d4e-ba19-7f19fa526dc9",
        "colab": {
          "base_uri": "https://localhost:8080/"
        },
        "outputId": "b9d44536-472c-4ebd-c426-e2964717b99c"
      },
      "outputs": [
        {
          "output_type": "stream",
          "name": "stdout",
          "text": [
            "time: 3.17 s (started: 2022-08-14 21:47:59 +00:00)\n"
          ]
        }
      ],
      "source": [
        "### Complete in this cell: predict test data and store in\n",
        "Pred_probs_RF = rf.predict_proba(test_data)[:, 1]"
      ]
    },
    {
      "cell_type": "markdown",
      "metadata": {
        "id": "W3TrmlUF2pDM"
      },
      "source": [
        "3.6. Get AUC ROC score on test dataset.\n",
        "\n",
        "Assign the AUC ROC score to `rf_roc_auc` variable.\n"
      ],
      "id": "W3TrmlUF2pDM"
    },
    {
      "cell_type": "code",
      "source": [
        "### Complete in this cell: calculate roc_auc_score.\n",
        "### Assign to `rf_roc_auc` variable.\n",
        "rf_roc_auc = roc_auc_score(y_test, Pred_probs_RF)\n",
        "rf_roc_auc"
      ],
      "metadata": {
        "id": "D4jft3Sw2pDN",
        "colab": {
          "base_uri": "https://localhost:8080/"
        },
        "outputId": "aa4baebf-0439-4cce-9426-d49b70a4debd"
      },
      "execution_count": 37,
      "outputs": [
        {
          "output_type": "execute_result",
          "data": {
            "text/plain": [
              "0.7094851570886392"
            ]
          },
          "metadata": {},
          "execution_count": 37
        },
        {
          "output_type": "stream",
          "name": "stdout",
          "text": [
            "time: 35.6 ms (started: 2022-08-14 21:48:06 +00:00)\n"
          ]
        }
      ],
      "id": "D4jft3Sw2pDN"
    },
    {
      "cell_type": "markdown",
      "source": [
        "At this point, the model should produce a result around 0.7"
      ],
      "metadata": {
        "id": "8_buAhkG24ZC"
      },
      "id": "8_buAhkG24ZC"
    },
    {
      "cell_type": "markdown",
      "source": [
        "**Don't change anything in this cell, just make it run correctly**"
      ],
      "metadata": {
        "id": "-1iYZeNjW-pR"
      },
      "id": "-1iYZeNjW-pR"
    },
    {
      "cell_type": "code",
      "source": [
        "if isinstance(rf_roc_auc, float):\n",
        "  print('Success: AUC ROC score type is correct!')\n",
        "else:\n",
        "  raise ValueError('AUC ROC score type is incorrect, please review your code')\n",
        "\n",
        "if rf_roc_auc >= 0.66:\n",
        "  print('Success: AUC ROC score is correct!')\n",
        "else:\n",
        "  raise ValueError('AUC ROC score is incorrect, please review your code')"
      ],
      "metadata": {
        "id": "G1I6K19KW-pa",
        "colab": {
          "base_uri": "https://localhost:8080/"
        },
        "outputId": "f44c1eb0-4439-459d-a884-63529ba19e82"
      },
      "execution_count": 38,
      "outputs": [
        {
          "output_type": "stream",
          "name": "stdout",
          "text": [
            "Success: AUC ROC score type is correct!\n",
            "Success: AUC ROC score is correct!\n",
            "time: 8.88 ms (started: 2022-08-14 21:49:42 +00:00)\n"
          ]
        }
      ],
      "id": "G1I6K19KW-pa"
    },
    {
      "cell_type": "markdown",
      "id": "4acfcc24-62b6-4118-9c42-a0268dcf5c53",
      "metadata": {
        "id": "4acfcc24-62b6-4118-9c42-a0268dcf5c53"
      },
      "source": [
        "### Randomized Search with Cross Validation"
      ]
    },
    {
      "cell_type": "markdown",
      "id": "dd634b2b-68af-4db1-b062-1496f8d1179e",
      "metadata": {
        "id": "dd634b2b-68af-4db1-b062-1496f8d1179e"
      },
      "source": [
        "So far, we've only created models using the default hyperparameters of each algorithm. This is usually something that we would only do for baseline models, hyperparameter tuning is a very important part of the modeling process and is often the difference between having an acceptable model or not.\n",
        "\n",
        "But, there are usually lots of hyperparameters to tune and a finite amount of time to do it, you have to consider the time and resources it takes to find an optimal combination of them. In the previous section you trained a random forest classifier and saw how much it took to train it once in your PC. If you want to do hyperparameter optimization you now have to consider that you will have to train the algorithm N number of times, with N being the cartesian product of all parameters. \n",
        "\n",
        "Furthermore, you can't validate the performance of your trained models on the test set, as this data should only be used to validate the final model. So we have to implement a validation strategy, K-Fold Cross Validation being the most common. But this also adds time complexity to our training, because we will have to train each combinations of hyperparameters M number of times, X being the number of folds in which we divided our dataset, so the total number of training iterations will be NxM... this resulting number can grow VERY quickly.\n",
        "\n",
        "Fortunately there are strategies to mitigate this, here you're going to select a small number of hyperparameters to test a RandomForestClassifier, and use a Randomized Search algorithm with K-Fold Cross Validation to avoid doing a full search across the grid. \n",
        "\n",
        "Remember: take in consideration how much time it took to train a single classifier, and define the number of cross validations folds and iterations of the search accordingly. \n",
        "A recommendation: run the training process, go make yourself a cup of coffee, sit somewhere comfortably and forget about it for a while.\n"
      ]
    },
    {
      "cell_type": "markdown",
      "id": "c49a11c7-156f-46bb-8bba-be29d1b2ed1a",
      "metadata": {
        "id": "c49a11c7-156f-46bb-8bba-be29d1b2ed1a"
      },
      "source": [
        "3.7. Use RandomizedSearchCV to find the best combination of hyperparameters for a RandomForestClassifier. The validation metric used to evaluate the models should be \"roc_auc\" (i.e. `scoring=\"roc_auc\"`).\n",
        "\n",
        "Assign the trained model to `rf_random` variable."
      ]
    },
    {
      "cell_type": "code",
      "execution_count": 39,
      "id": "0cb4c536-82d8-49f8-a0b6-fede491055c1",
      "metadata": {
        "id": "0cb4c536-82d8-49f8-a0b6-fede491055c1",
        "colab": {
          "base_uri": "https://localhost:8080/"
        },
        "outputId": "fa515c3d-2757-4a05-e3e3-b0c1d3ec5d80"
      },
      "outputs": [
        {
          "output_type": "stream",
          "name": "stdout",
          "text": [
            "time: 10min 25s (started: 2022-08-14 21:49:51 +00:00)\n"
          ]
        }
      ],
      "source": [
        "### Complete in this cell: Use RandomizedSearchCV to find the best combination \n",
        "### of hyperparameters for a RandomForestClassifier.\n",
        "### Assign the model to `rf_random`\n",
        "n_estimators = [10, 50, 100]\n",
        "criterion = [\"gini\", \"entropy\"]\n",
        "rf_grid = dict(n_estimators=n_estimators, criterion=criterion)\n",
        "rf_random = RandomizedSearchCV(rf, param_distributions=rf_grid, n_iter=3, cv=3, scoring=\"roc_auc\", random_state=42).fit(train_data, y_train)"
      ]
    },
    {
      "cell_type": "code",
      "source": [
        "rf_random.best_params_"
      ],
      "metadata": {
        "colab": {
          "base_uri": "https://localhost:8080/"
        },
        "id": "md59t6O05mMV",
        "outputId": "76ab7dae-d4ce-4d68-982e-03d96ccdc54b"
      },
      "id": "md59t6O05mMV",
      "execution_count": 40,
      "outputs": [
        {
          "output_type": "execute_result",
          "data": {
            "text/plain": [
              "{'criterion': 'entropy', 'n_estimators': 100}"
            ]
          },
          "metadata": {},
          "execution_count": 40
        },
        {
          "output_type": "stream",
          "name": "stdout",
          "text": [
            "time: 5.6 ms (started: 2022-08-14 22:00:24 +00:00)\n"
          ]
        }
      ]
    },
    {
      "cell_type": "markdown",
      "id": "b09205aa-5afc-481a-b45b-d5e80b56d804",
      "metadata": {
        "id": "b09205aa-5afc-481a-b45b-d5e80b56d804"
      },
      "source": [
        "3.8. Use the classifier to predict probabilities on the test set.\n"
      ]
    },
    {
      "cell_type": "code",
      "execution_count": 41,
      "id": "4429ca94-57f4-487e-b3dd-883bc7bc7835",
      "metadata": {
        "id": "4429ca94-57f4-487e-b3dd-883bc7bc7835",
        "colab": {
          "base_uri": "https://localhost:8080/"
        },
        "outputId": "c5c834a7-39df-4e09-81b5-1464cfb222f0"
      },
      "outputs": [
        {
          "output_type": "stream",
          "name": "stdout",
          "text": [
            "time: 3.89 s (started: 2022-08-14 22:00:27 +00:00)\n"
          ]
        }
      ],
      "source": [
        "### Complete in this cell: predict test data and save csv\n",
        "Pred_probs_R_Search = rf_random.predict_proba(test_data)[:, 1]\n",
        "Pred_probs_R_Search_df = pd.DataFrame(Pred_probs_R_Search)\n",
        "Pred_probs_R_Search_df.to_csv(\"Pred_probs_R_Search.csv\")"
      ]
    },
    {
      "cell_type": "markdown",
      "id": "e645e849-a7e0-43af-b7d1-0b84c29f0e70",
      "metadata": {
        "id": "e645e849-a7e0-43af-b7d1-0b84c29f0e70"
      },
      "source": [
        "3.9. Get AUC ROC score on test dataset.\n",
        "\n",
        "Assign the AUC ROC score to `rf_tuned_roc_auc` variable."
      ]
    },
    {
      "cell_type": "code",
      "execution_count": 42,
      "id": "953f2204-304a-405b-b51b-350f054eb3f4",
      "metadata": {
        "id": "953f2204-304a-405b-b51b-350f054eb3f4",
        "colab": {
          "base_uri": "https://localhost:8080/"
        },
        "outputId": "8ea8bb59-3478-4ec5-aa8e-738078c34c78"
      },
      "outputs": [
        {
          "output_type": "execute_result",
          "data": {
            "text/plain": [
              "0.7208792228047999"
            ]
          },
          "metadata": {},
          "execution_count": 42
        },
        {
          "output_type": "stream",
          "name": "stdout",
          "text": [
            "time: 35.3 ms (started: 2022-08-14 22:00:49 +00:00)\n"
          ]
        }
      ],
      "source": [
        "### Complete in this cell: calculate roc_auc_score.\n",
        "### Assign to `rf_tuned_roc_auc` variable.\n",
        "rf_tuned_roc_auc = roc_auc_score(y_test, Pred_probs_R_Search)\n",
        "rf_tuned_roc_auc"
      ]
    },
    {
      "cell_type": "markdown",
      "source": [
        "At this point, the model should produce a result around 0.7 or higher."
      ],
      "metadata": {
        "id": "_ZAAkhx1X1Qt"
      },
      "id": "_ZAAkhx1X1Qt"
    },
    {
      "cell_type": "markdown",
      "source": [
        "**Don't change anything in this cell, just make it run correctly**"
      ],
      "metadata": {
        "id": "2nziyTPMX1Qu"
      },
      "id": "2nziyTPMX1Qu"
    },
    {
      "cell_type": "code",
      "source": [
        "if isinstance(rf_tuned_roc_auc, float):\n",
        "  print('Success: AUC ROC score type is correct!')\n",
        "else:\n",
        "  raise ValueError('AUC ROC score type is incorrect, please review your code')\n",
        "\n",
        "if rf_tuned_roc_auc >= 0.7:\n",
        "  print('Success: AUC ROC score is correct!')\n",
        "else:\n",
        "  raise ValueError('AUC ROC score is incorrect, please review your code')"
      ],
      "metadata": {
        "id": "nlDvoWwGX1Qu",
        "colab": {
          "base_uri": "https://localhost:8080/"
        },
        "outputId": "5c136cdf-8da0-4097-bbeb-d570b2c10632"
      },
      "execution_count": 43,
      "outputs": [
        {
          "output_type": "stream",
          "name": "stdout",
          "text": [
            "Success: AUC ROC score type is correct!\n",
            "Success: AUC ROC score is correct!\n",
            "time: 8.2 ms (started: 2022-08-14 22:01:51 +00:00)\n"
          ]
        }
      ],
      "id": "nlDvoWwGX1Qu"
    },
    {
      "cell_type": "markdown",
      "id": "be101430-3682-468d-a43d-8c78f60f96a5",
      "metadata": {
        "id": "be101430-3682-468d-a43d-8c78f60f96a5"
      },
      "source": [
        "3.10. Optional: If you have the time and resources, you can train the model for longer iterations, or select more estimator sizes. This is optional, but if you, we would love to see your results."
      ]
    },
    {
      "cell_type": "code",
      "source": [
        "# First I test the RandomForestClassifier with balanced class weights. It shows a better ROC score \n",
        "rf_class_bal = RandomForestClassifier(random_state=42, n_jobs=-1, class_weight=\"balanced\", criterion='entropy').fit(train_data, y_train)\n",
        "Preds_class_bal = rf_class_bal.predict_proba(test_data)[:, 1]\n",
        "Class_bal_roc_auc = roc_auc_score(y_test, Preds_class_bal)\n",
        "Class_bal_roc_auc "
      ],
      "metadata": {
        "colab": {
          "base_uri": "https://localhost:8080/"
        },
        "id": "O3Znij0GvZcI",
        "outputId": "a6f2e09c-a569-4b43-c835-91ec4b2ab3d6"
      },
      "id": "O3Znij0GvZcI",
      "execution_count": 44,
      "outputs": [
        {
          "output_type": "execute_result",
          "data": {
            "text/plain": [
              "0.7235955162618959"
            ]
          },
          "metadata": {},
          "execution_count": 44
        },
        {
          "output_type": "stream",
          "name": "stdout",
          "text": [
            "time: 2min 26s (started: 2022-08-14 22:01:57 +00:00)\n"
          ]
        }
      ]
    },
    {
      "cell_type": "code",
      "source": [
        "# The next code considers weighted classes and bigger sizes of n_estimators\n",
        "rf_grid = dict(n_estimators=[100, 125, 150, 175])\n",
        "rf_random_opt = RandomizedSearchCV(rf_class_bal, param_distributions=rf_grid, n_iter=4, cv=3, scoring=\"roc_auc\", random_state=42).fit(train_data, y_train)\n",
        "Preds_rf_random_opt = rf_random_opt.predict_proba(test_data)[:, 1]\n",
        "rf_random_opt_roc_auc = roc_auc_score(y_test, Preds_rf_random_opt)\n",
        "rf_random_opt_roc_auc "
      ],
      "metadata": {
        "id": "kxBteNU-4kQy",
        "colab": {
          "base_uri": "https://localhost:8080/"
        },
        "outputId": "f18c4f26-f07b-4d48-f1ce-4eb847f18486"
      },
      "id": "kxBteNU-4kQy",
      "execution_count": 46,
      "outputs": [
        {
          "output_type": "execute_result",
          "data": {
            "text/plain": [
              "0.734704150019516"
            ]
          },
          "metadata": {},
          "execution_count": 46
        },
        {
          "output_type": "stream",
          "name": "stdout",
          "text": [
            "time: 32min 5s (started: 2022-08-14 22:10:08 +00:00)\n"
          ]
        }
      ]
    },
    {
      "cell_type": "markdown",
      "id": "d72e7335-f3cc-410d-81f2-f110f3fbb252",
      "metadata": {
        "id": "d72e7335-f3cc-410d-81f2-f110f3fbb252"
      },
      "source": [
        "### Optional: Training a LightGBM model "
      ]
    },
    {
      "cell_type": "markdown",
      "id": "015d58b7-9f70-4bfb-8b72-20a626e00ea0",
      "metadata": {
        "id": "015d58b7-9f70-4bfb-8b72-20a626e00ea0"
      },
      "source": [
        "3.11. Gradient Boosting Machine is one of the most used machine learning algorithms for tabular data. Lots of competitions have been won using models from libraries like XGBoost or LightGBM. You can try using [LightGBM](https://lightgbm.readthedocs.io/en/latest/) to train a new model an see how it performs compared to the other classifiers you trained. "
      ]
    },
    {
      "cell_type": "code",
      "execution_count": 45,
      "id": "91d497eb-2b8b-43fe-945e-26a04b8fc004",
      "metadata": {
        "id": "91d497eb-2b8b-43fe-945e-26a04b8fc004",
        "colab": {
          "base_uri": "https://localhost:8080/"
        },
        "outputId": "49692d43-2014-459c-cc19-26c99cd4380b"
      },
      "outputs": [
        {
          "output_type": "execute_result",
          "data": {
            "text/plain": [
              "0.7560860352604616"
            ]
          },
          "metadata": {},
          "execution_count": 45
        },
        {
          "output_type": "stream",
          "name": "stdout",
          "text": [
            "time: 15.9 s (started: 2022-08-14 22:06:06 +00:00)\n"
          ]
        }
      ],
      "source": [
        "### Complete in this cell: train a LightGBM model\n",
        "LightGBM_model = lgb.LGBMClassifier(random_state=22)                 \n",
        "LightGBM_model.fit(train_data, y_train)\n",
        "\n",
        "Preds_LGB = LightGBM_model.predict_proba(test_data)[:, 1]\n",
        "LGB_roc_auc = roc_auc_score(y_test, Preds_LGB)\n",
        "LGB_roc_auc "
      ]
    },
    {
      "cell_type": "markdown",
      "id": "c2d1a1f4-5e1e-4982-a6ae-a27b8c11428e",
      "metadata": {
        "id": "c2d1a1f4-5e1e-4982-a6ae-a27b8c11428e"
      },
      "source": [
        "### Optional: Using Scikit Learn Pipelines "
      ]
    },
    {
      "cell_type": "markdown",
      "id": "2e4f95fb-73bf-42c4-97a3-80078f2496aa",
      "metadata": {
        "id": "2e4f95fb-73bf-42c4-97a3-80078f2496aa"
      },
      "source": [
        "3.12. So far you've created special functions or blocks or code to chain operations on data and then train the models. But, reproducibility is important, and you don't want to have to remember the correct steps to follow each time you have new data to train your models. There are a lots of tools out there that can help you with that, here you can use a [Sklearn Pipeline](https://scikit-learn.org/stable/modules/generated/sklearn.pipeline.Pipeline.html) to process your data."
      ]
    },
    {
      "cell_type": "code",
      "execution_count": null,
      "id": "5a5eecdf-ee08-4ebd-8667-25cdb9a3eef4",
      "metadata": {
        "id": "5a5eecdf-ee08-4ebd-8667-25cdb9a3eef4"
      },
      "outputs": [],
      "source": [
        "### Complete in this cell: use a sklearn Pipeline to automate the cleaning, standardizing and training\n"
      ]
    }
  ],
  "metadata": {
    "kernelspec": {
      "display_name": "Python 3 (ipykernel)",
      "language": "python",
      "name": "python3"
    },
    "language_info": {
      "codemirror_mode": {
        "name": "ipython",
        "version": 3
      },
      "file_extension": ".py",
      "mimetype": "text/x-python",
      "name": "python",
      "nbconvert_exporter": "python",
      "pygments_lexer": "ipython3",
      "version": "3.8.9"
    },
    "colab": {
      "name": "AnyoneAI - Project 3_v3.ipynb",
      "provenance": [],
      "collapsed_sections": [],
      "include_colab_link": true
    }
  },
  "nbformat": 4,
  "nbformat_minor": 5
}