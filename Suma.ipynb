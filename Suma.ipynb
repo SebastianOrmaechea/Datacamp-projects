{
  "nbformat": 4,
  "nbformat_minor": 0,
  "metadata": {
    "colab": {
      "name": "Suma.ipynb",
      "provenance": [],
      "authorship_tag": "ABX9TyMYu5fMqXiF/5slSToAWfRM",
      "include_colab_link": true
    },
    "kernelspec": {
      "name": "python3",
      "display_name": "Python 3"
    },
    "language_info": {
      "name": "python"
    }
  },
  "cells": [
    {
      "cell_type": "markdown",
      "metadata": {
        "id": "view-in-github",
        "colab_type": "text"
      },
      "source": [
        "<a href=\"https://colab.research.google.com/github/SebastianOrmaechea/Python-projects/blob/main/Suma.ipynb\" target=\"_parent\"><img src=\"https://colab.research.google.com/assets/colab-badge.svg\" alt=\"Open In Colab\"/></a>"
      ]
    },
    {
      "cell_type": "code",
      "execution_count": null,
      "metadata": {
        "id": "yE4Drk0l4dki"
      },
      "outputs": [],
      "source": [
        "from SebastianOrmaechea.Python-projects.Prueba import Valor\n",
        "\n",
        "Suma = Valor + 17"
      ]
    }
  ]
}